{
 "cells": [
  {
   "cell_type": "code",
   "execution_count": 1,
   "id": "deeddaae",
   "metadata": {
    "_cell_guid": "b1076dfc-b9ad-4769-8c92-a6c4dae69d19",
    "_uuid": "8f2839f25d086af736a60e9eeb907d3b93b6e0e5",
    "execution": {
     "iopub.execute_input": "2023-01-21T15:09:31.205870Z",
     "iopub.status.busy": "2023-01-21T15:09:31.205365Z",
     "iopub.status.idle": "2023-01-21T15:09:33.045793Z",
     "shell.execute_reply": "2023-01-21T15:09:33.044790Z"
    },
    "papermill": {
     "duration": 1.859119,
     "end_time": "2023-01-21T15:09:33.047989",
     "exception": false,
     "start_time": "2023-01-21T15:09:31.188870",
     "status": "completed"
    },
    "tags": []
   },
   "outputs": [
    {
     "name": "stdout",
     "output_type": "stream",
     "text": [
      "/kaggle/input/imdb-dataset-of-50k-movie-reviews/IMDB Dataset.csv\n"
     ]
    }
   ],
   "source": [
    "# This Python 3 environment comes with many helpful analytics libraries installed\n",
    "# It is defined by the kaggle/python Docker image: https://github.com/kaggle/docker-python\n",
    "# For example, here's several helpful packages to load\n",
    "\n",
    "import numpy as np # linear algebra\n",
    "import pandas as pd # data processing, CSV file I/O (e.g. pd.read_csv)\n",
    "from sklearn.preprocessing import LabelEncoder\n",
    "from sklearn.model_selection import train_test_split\n",
    "import re\n",
    "from collections import Counter\n",
    "import matplotlib.pyplot as plt\n",
    "import nltk\n",
    "from tqdm.notebook import tqdm\n",
    "import squarify\n",
    "\n",
    "\n",
    "# Input data files are available in the read-only \"../input/\" directory\n",
    "# For example, running this (by clicking run or pressing Shift+Enter) will list all files under the input directory\n",
    "\n",
    "import os\n",
    "for dirname, _, filenames in os.walk('/kaggle/input'):\n",
    "    for filename in filenames:\n",
    "        print(os.path.join(dirname, filename))\n",
    "\n",
    "# You can write up to 20GB to the current directory (/kaggle/working/) that gets preserved as output when you create a version using \"Save & Run All\" \n",
    "# You can also write temporary files to /kaggle/temp/, but they won't be saved outside of the current session"
   ]
  },
  {
   "cell_type": "markdown",
   "id": "6ad80910",
   "metadata": {
    "papermill": {
     "duration": 0.014006,
     "end_time": "2023-01-21T15:09:33.075522",
     "exception": false,
     "start_time": "2023-01-21T15:09:33.061516",
     "status": "completed"
    },
    "tags": []
   },
   "source": [
    "### About NLTK\n",
    "The NLTK module is a massive tool kit, aimed at helping you with the entire Natural Language Processing (NLP) methodology.\n",
    "In order to install NLTK run the following commands in your terminal.\n",
    "\n",
    "    sudo pip install nltk\n",
    "    Then, enter the python shell in your terminal by simply typing python\n",
    "    Type import nltk\n",
    "    nltk.download(‘all’)\n",
    "\n",
    "The above installation will take quite some time due to the massive amount of tokenizers, chunkers, other algorithms, and all of the corpora to be downloaded.\n",
    "\n",
    "Some terms that will be frequently used are :\n",
    "* **Corpus** – Body of text, singular. Corpora is the plural of this.\n",
    "* **Lexicon** – Words and their meanings.\n",
    "* **Token** – Each “entity” that is a part of whatever was split up based on rules. For examples, each word is a token when a sentence is “tokenized” into words. Each sentence can also be a token, if you tokenized the sentences out of a paragraph."
   ]
  },
  {
   "cell_type": "code",
   "execution_count": 2,
   "id": "d9a65a2f",
   "metadata": {
    "execution": {
     "iopub.execute_input": "2023-01-21T15:09:33.103297Z",
     "iopub.status.busy": "2023-01-21T15:09:33.102862Z",
     "iopub.status.idle": "2023-01-21T15:09:34.669158Z",
     "shell.execute_reply": "2023-01-21T15:09:34.667599Z"
    },
    "papermill": {
     "duration": 1.583333,
     "end_time": "2023-01-21T15:09:34.671631",
     "exception": false,
     "start_time": "2023-01-21T15:09:33.088298",
     "status": "completed"
    },
    "tags": []
   },
   "outputs": [],
   "source": [
    "df = pd.read_csv('/kaggle/input/imdb-dataset-of-50k-movie-reviews/IMDB Dataset.csv')"
   ]
  },
  {
   "cell_type": "code",
   "execution_count": 3,
   "id": "7e10a0d9",
   "metadata": {
    "execution": {
     "iopub.execute_input": "2023-01-21T15:09:34.702223Z",
     "iopub.status.busy": "2023-01-21T15:09:34.701847Z",
     "iopub.status.idle": "2023-01-21T15:09:34.722323Z",
     "shell.execute_reply": "2023-01-21T15:09:34.721411Z"
    },
    "papermill": {
     "duration": 0.037099,
     "end_time": "2023-01-21T15:09:34.724325",
     "exception": false,
     "start_time": "2023-01-21T15:09:34.687226",
     "status": "completed"
    },
    "tags": []
   },
   "outputs": [
    {
     "data": {
      "text/html": [
       "<div>\n",
       "<style scoped>\n",
       "    .dataframe tbody tr th:only-of-type {\n",
       "        vertical-align: middle;\n",
       "    }\n",
       "\n",
       "    .dataframe tbody tr th {\n",
       "        vertical-align: top;\n",
       "    }\n",
       "\n",
       "    .dataframe thead th {\n",
       "        text-align: right;\n",
       "    }\n",
       "</style>\n",
       "<table border=\"1\" class=\"dataframe\">\n",
       "  <thead>\n",
       "    <tr style=\"text-align: right;\">\n",
       "      <th></th>\n",
       "      <th>review</th>\n",
       "      <th>sentiment</th>\n",
       "    </tr>\n",
       "  </thead>\n",
       "  <tbody>\n",
       "    <tr>\n",
       "      <th>0</th>\n",
       "      <td>One of the other reviewers has mentioned that ...</td>\n",
       "      <td>positive</td>\n",
       "    </tr>\n",
       "    <tr>\n",
       "      <th>1</th>\n",
       "      <td>A wonderful little production. &lt;br /&gt;&lt;br /&gt;The...</td>\n",
       "      <td>positive</td>\n",
       "    </tr>\n",
       "    <tr>\n",
       "      <th>2</th>\n",
       "      <td>I thought this was a wonderful way to spend ti...</td>\n",
       "      <td>positive</td>\n",
       "    </tr>\n",
       "    <tr>\n",
       "      <th>3</th>\n",
       "      <td>Basically there's a family where a little boy ...</td>\n",
       "      <td>negative</td>\n",
       "    </tr>\n",
       "    <tr>\n",
       "      <th>4</th>\n",
       "      <td>Petter Mattei's \"Love in the Time of Money\" is...</td>\n",
       "      <td>positive</td>\n",
       "    </tr>\n",
       "  </tbody>\n",
       "</table>\n",
       "</div>"
      ],
      "text/plain": [
       "                                              review sentiment\n",
       "0  One of the other reviewers has mentioned that ...  positive\n",
       "1  A wonderful little production. <br /><br />The...  positive\n",
       "2  I thought this was a wonderful way to spend ti...  positive\n",
       "3  Basically there's a family where a little boy ...  negative\n",
       "4  Petter Mattei's \"Love in the Time of Money\" is...  positive"
      ]
     },
     "execution_count": 3,
     "metadata": {},
     "output_type": "execute_result"
    }
   ],
   "source": [
    "df.head()"
   ]
  },
  {
   "cell_type": "code",
   "execution_count": 4,
   "id": "04adc513",
   "metadata": {
    "execution": {
     "iopub.execute_input": "2023-01-21T15:09:34.752152Z",
     "iopub.status.busy": "2023-01-21T15:09:34.751755Z",
     "iopub.status.idle": "2023-01-21T15:09:34.931382Z",
     "shell.execute_reply": "2023-01-21T15:09:34.930276Z"
    },
    "papermill": {
     "duration": 0.195789,
     "end_time": "2023-01-21T15:09:34.933312",
     "exception": false,
     "start_time": "2023-01-21T15:09:34.737523",
     "status": "completed"
    },
    "tags": []
   },
   "outputs": [
    {
     "data": {
      "text/plain": [
       "418"
      ]
     },
     "execution_count": 4,
     "metadata": {},
     "output_type": "execute_result"
    }
   ],
   "source": [
    "# Return boolean Series denoting duplicate rows\n",
    "df.duplicated().sum()"
   ]
  },
  {
   "cell_type": "code",
   "execution_count": 5,
   "id": "3e81e325",
   "metadata": {
    "execution": {
     "iopub.execute_input": "2023-01-21T15:09:34.962083Z",
     "iopub.status.busy": "2023-01-21T15:09:34.961717Z",
     "iopub.status.idle": "2023-01-21T15:09:34.979880Z",
     "shell.execute_reply": "2023-01-21T15:09:34.979164Z"
    },
    "papermill": {
     "duration": 0.035418,
     "end_time": "2023-01-21T15:09:34.981934",
     "exception": false,
     "start_time": "2023-01-21T15:09:34.946516",
     "status": "completed"
    },
    "tags": []
   },
   "outputs": [
    {
     "data": {
      "text/plain": [
       "0"
      ]
     },
     "execution_count": 5,
     "metadata": {},
     "output_type": "execute_result"
    }
   ],
   "source": [
    "df.isna().sum().sum()"
   ]
  },
  {
   "cell_type": "code",
   "execution_count": 6,
   "id": "a369cfa0",
   "metadata": {
    "execution": {
     "iopub.execute_input": "2023-01-21T15:09:35.010954Z",
     "iopub.status.busy": "2023-01-21T15:09:35.010104Z",
     "iopub.status.idle": "2023-01-21T15:09:35.169368Z",
     "shell.execute_reply": "2023-01-21T15:09:35.168390Z"
    },
    "papermill": {
     "duration": 0.176297,
     "end_time": "2023-01-21T15:09:35.171725",
     "exception": false,
     "start_time": "2023-01-21T15:09:34.995428",
     "status": "completed"
    },
    "tags": []
   },
   "outputs": [],
   "source": [
    "# Return DataFrame with duplicate rows removed.\n",
    "df = df.drop_duplicates()"
   ]
  },
  {
   "cell_type": "code",
   "execution_count": 7,
   "id": "b0e1eb12",
   "metadata": {
    "execution": {
     "iopub.execute_input": "2023-01-21T15:09:35.200252Z",
     "iopub.status.busy": "2023-01-21T15:09:35.199813Z",
     "iopub.status.idle": "2023-01-21T15:09:35.210075Z",
     "shell.execute_reply": "2023-01-21T15:09:35.209019Z"
    },
    "papermill": {
     "duration": 0.027808,
     "end_time": "2023-01-21T15:09:35.212839",
     "exception": false,
     "start_time": "2023-01-21T15:09:35.185031",
     "status": "completed"
    },
    "tags": []
   },
   "outputs": [],
   "source": [
    "df = df.sample(10000, random_state=42).reset_index(drop=True)"
   ]
  },
  {
   "cell_type": "code",
   "execution_count": 8,
   "id": "b7cc06a4",
   "metadata": {
    "execution": {
     "iopub.execute_input": "2023-01-21T15:09:35.241440Z",
     "iopub.status.busy": "2023-01-21T15:09:35.241063Z",
     "iopub.status.idle": "2023-01-21T15:09:35.249982Z",
     "shell.execute_reply": "2023-01-21T15:09:35.248433Z"
    },
    "papermill": {
     "duration": 0.02614,
     "end_time": "2023-01-21T15:09:35.252690",
     "exception": false,
     "start_time": "2023-01-21T15:09:35.226550",
     "status": "completed"
    },
    "tags": []
   },
   "outputs": [],
   "source": [
    "label_encoder = LabelEncoder()\n",
    "df['target'] = label_encoder.fit_transform(df['sentiment'])"
   ]
  },
  {
   "cell_type": "code",
   "execution_count": 9,
   "id": "c19f3fbc",
   "metadata": {
    "execution": {
     "iopub.execute_input": "2023-01-21T15:09:35.281195Z",
     "iopub.status.busy": "2023-01-21T15:09:35.280768Z",
     "iopub.status.idle": "2023-01-21T15:09:35.291319Z",
     "shell.execute_reply": "2023-01-21T15:09:35.290396Z"
    },
    "papermill": {
     "duration": 0.027511,
     "end_time": "2023-01-21T15:09:35.293593",
     "exception": false,
     "start_time": "2023-01-21T15:09:35.266082",
     "status": "completed"
    },
    "tags": []
   },
   "outputs": [
    {
     "data": {
      "text/html": [
       "<div>\n",
       "<style scoped>\n",
       "    .dataframe tbody tr th:only-of-type {\n",
       "        vertical-align: middle;\n",
       "    }\n",
       "\n",
       "    .dataframe tbody tr th {\n",
       "        vertical-align: top;\n",
       "    }\n",
       "\n",
       "    .dataframe thead th {\n",
       "        text-align: right;\n",
       "    }\n",
       "</style>\n",
       "<table border=\"1\" class=\"dataframe\">\n",
       "  <thead>\n",
       "    <tr style=\"text-align: right;\">\n",
       "      <th></th>\n",
       "      <th>review</th>\n",
       "      <th>sentiment</th>\n",
       "      <th>target</th>\n",
       "    </tr>\n",
       "  </thead>\n",
       "  <tbody>\n",
       "    <tr>\n",
       "      <th>0</th>\n",
       "      <td>\"Soul Plane\" is a horrible attempt at comedy t...</td>\n",
       "      <td>negative</td>\n",
       "      <td>0</td>\n",
       "    </tr>\n",
       "    <tr>\n",
       "      <th>1</th>\n",
       "      <td>Guest from the Future tells a fascinating stor...</td>\n",
       "      <td>positive</td>\n",
       "      <td>1</td>\n",
       "    </tr>\n",
       "    <tr>\n",
       "      <th>2</th>\n",
       "      <td>\"National Treasure\" (2004) is a thoroughly mis...</td>\n",
       "      <td>negative</td>\n",
       "      <td>0</td>\n",
       "    </tr>\n",
       "    <tr>\n",
       "      <th>3</th>\n",
       "      <td>OK. First said, I just wanted to check whether...</td>\n",
       "      <td>negative</td>\n",
       "      <td>0</td>\n",
       "    </tr>\n",
       "    <tr>\n",
       "      <th>4</th>\n",
       "      <td>I haven't always been a fan, but the show grew...</td>\n",
       "      <td>positive</td>\n",
       "      <td>1</td>\n",
       "    </tr>\n",
       "  </tbody>\n",
       "</table>\n",
       "</div>"
      ],
      "text/plain": [
       "                                              review sentiment  target\n",
       "0  \"Soul Plane\" is a horrible attempt at comedy t...  negative       0\n",
       "1  Guest from the Future tells a fascinating stor...  positive       1\n",
       "2  \"National Treasure\" (2004) is a thoroughly mis...  negative       0\n",
       "3  OK. First said, I just wanted to check whether...  negative       0\n",
       "4  I haven't always been a fan, but the show grew...  positive       1"
      ]
     },
     "execution_count": 9,
     "metadata": {},
     "output_type": "execute_result"
    }
   ],
   "source": [
    "df.head()"
   ]
  },
  {
   "cell_type": "markdown",
   "id": "a91e6b8f",
   "metadata": {
    "papermill": {
     "duration": 0.013213,
     "end_time": "2023-01-21T15:09:35.320527",
     "exception": false,
     "start_time": "2023-01-21T15:09:35.307314",
     "status": "completed"
    },
    "tags": []
   },
   "source": [
    "# 1.Preprocessing\n",
    "## a. Regular Expression"
   ]
  },
  {
   "cell_type": "code",
   "execution_count": 10,
   "id": "ec38a274",
   "metadata": {
    "execution": {
     "iopub.execute_input": "2023-01-21T15:09:35.351372Z",
     "iopub.status.busy": "2023-01-21T15:09:35.351010Z",
     "iopub.status.idle": "2023-01-21T15:09:35.694691Z",
     "shell.execute_reply": "2023-01-21T15:09:35.693266Z"
    },
    "papermill": {
     "duration": 0.361986,
     "end_time": "2023-01-21T15:09:35.697402",
     "exception": false,
     "start_time": "2023-01-21T15:09:35.335416",
     "status": "completed"
    },
    "tags": []
   },
   "outputs": [],
   "source": [
    "def lower_clean(sentence):\n",
    "    sentence = sentence.lower()\n",
    "    sentence = re.sub(r'[^a-z0-9 ]','',sentence)    ### Anything except 0..9, a..z and space eplaced with nothing\n",
    "    return sentence\n",
    "\n",
    "df['token'] = df['review'].map(lower_clean).str.split()"
   ]
  },
  {
   "cell_type": "code",
   "execution_count": 11,
   "id": "182f34e9",
   "metadata": {
    "execution": {
     "iopub.execute_input": "2023-01-21T15:09:35.726516Z",
     "iopub.status.busy": "2023-01-21T15:09:35.726170Z",
     "iopub.status.idle": "2023-01-21T15:09:35.736559Z",
     "shell.execute_reply": "2023-01-21T15:09:35.735464Z"
    },
    "papermill": {
     "duration": 0.027494,
     "end_time": "2023-01-21T15:09:35.738553",
     "exception": false,
     "start_time": "2023-01-21T15:09:35.711059",
     "status": "completed"
    },
    "tags": []
   },
   "outputs": [
    {
     "data": {
      "text/plain": [
       "0    [soul, plane, is, a, horrible, attempt, at, co...\n",
       "1    [guest, from, the, future, tells, a, fascinati...\n",
       "2    [national, treasure, 2004, is, a, thoroughly, ...\n",
       "3    [ok, first, said, i, just, wanted, to, check, ...\n",
       "4    [i, havent, always, been, a, fan, but, the, sh...\n",
       "Name: token, dtype: object"
      ]
     },
     "execution_count": 11,
     "metadata": {},
     "output_type": "execute_result"
    }
   ],
   "source": [
    "df['token'].head()"
   ]
  },
  {
   "cell_type": "markdown",
   "id": "8ed5f079",
   "metadata": {
    "papermill": {
     "duration": 0.013381,
     "end_time": "2023-01-21T15:09:35.765621",
     "exception": false,
     "start_time": "2023-01-21T15:09:35.752240",
     "status": "completed"
    },
    "tags": []
   },
   "source": [
    "## How Counter.update works?\n",
    "\n",
    "    from collections import Counter\n",
    "    c = Counter(['black','blue'])\n",
    "    \n",
    "    c\n",
    "    Counter({'black': 1, 'blue': 1})\n",
    "\n",
    "    c.update([\"red\",\"blue\"])  \n",
    "\n",
    "    c\n",
    "    Counter({'black': 1, 'blue': 2, 'red': 1})"
   ]
  },
  {
   "cell_type": "code",
   "execution_count": 12,
   "id": "e0956c81",
   "metadata": {
    "execution": {
     "iopub.execute_input": "2023-01-21T15:09:35.794616Z",
     "iopub.status.busy": "2023-01-21T15:09:35.794217Z",
     "iopub.status.idle": "2023-01-21T15:09:36.160528Z",
     "shell.execute_reply": "2023-01-21T15:09:36.159599Z"
    },
    "papermill": {
     "duration": 0.383637,
     "end_time": "2023-01-21T15:09:36.163105",
     "exception": false,
     "start_time": "2023-01-21T15:09:35.779468",
     "status": "completed"
    },
    "tags": []
   },
   "outputs": [
    {
     "name": "stdout",
     "output_type": "stream",
     "text": [
      "Total number of word: 74855\n"
     ]
    }
   ],
   "source": [
    "word_counter = Counter()\n",
    "df['token'].map(lambda x: word_counter.update(x))\n",
    "print(\"Total number of word:\", len(word_counter))"
   ]
  },
  {
   "cell_type": "code",
   "execution_count": 13,
   "id": "20dd439c",
   "metadata": {
    "execution": {
     "iopub.execute_input": "2023-01-21T15:09:36.193240Z",
     "iopub.status.busy": "2023-01-21T15:09:36.192853Z",
     "iopub.status.idle": "2023-01-21T15:09:36.823137Z",
     "shell.execute_reply": "2023-01-21T15:09:36.822380Z"
    },
    "papermill": {
     "duration": 0.647385,
     "end_time": "2023-01-21T15:09:36.825024",
     "exception": false,
     "start_time": "2023-01-21T15:09:36.177639",
     "status": "completed"
    },
    "tags": []
   },
   "outputs": [
    {
     "data": {
      "text/plain": [
       "Text(0.5, 1.0, 'Word Counts under q=0.99')"
      ]
     },
     "execution_count": 13,
     "metadata": {},
     "output_type": "execute_result"
    },
    {
     "data": {
      "image/png": "[encoded data removed]",
      "text/plain": [
       "<Figure size 864x360 with 2 Axes>"
      ]
     },
     "metadata": {
      "needs_background": "light"
     },
     "output_type": "display_data"
    }
   ],
   "source": [
    "temp = pd.Series(word_counter.values())\n",
    "\n",
    "fig, axes = plt.subplots(1, 2, figsize=(12, 5))\n",
    "axes[0].hist(temp, bins=100)\n",
    "axes[0].set_title(\"Word Counts\")\n",
    "axes[1].hist(temp, bins=100, range=[0, temp.quantile(q=0.99)])\n",
    "axes[1].set_title(\"Word Counts under q=0.99\")"
   ]
  },
  {
   "cell_type": "code",
   "execution_count": 14,
   "id": "c5458123",
   "metadata": {
    "execution": {
     "iopub.execute_input": "2023-01-21T15:09:36.855708Z",
     "iopub.status.busy": "2023-01-21T15:09:36.855330Z",
     "iopub.status.idle": "2023-01-21T15:09:37.263968Z",
     "shell.execute_reply": "2023-01-21T15:09:37.263063Z"
    },
    "papermill": {
     "duration": 0.425947,
     "end_time": "2023-01-21T15:09:37.265795",
     "exception": false,
     "start_time": "2023-01-21T15:09:36.839848",
     "status": "completed"
    },
    "tags": []
   },
   "outputs": [
    {
     "name": "stderr",
     "output_type": "stream",
     "text": [
      "[nltk_data] Downloading package omw-1.4 to /usr/share/nltk_data...\n"
     ]
    },
    {
     "data": {
      "text/plain": [
       "True"
      ]
     },
     "execution_count": 14,
     "metadata": {},
     "output_type": "execute_result"
    }
   ],
   "source": [
    "nltk.download('omw-1.4')"
   ]
  },
  {
   "cell_type": "markdown",
   "id": "d33a6123",
   "metadata": {
    "papermill": {
     "duration": 0.013912,
     "end_time": "2023-01-21T15:09:37.293965",
     "exception": false,
     "start_time": "2023-01-21T15:09:37.280053",
     "status": "completed"
    },
    "tags": []
   },
   "source": [
    "**Tokenization of words**: We use the method word_tokenize() to split a sentence into words\n",
    "\n",
    "### Stop Words\n",
    "A stop word is a commonly used word (such as “the”, “a”, “an”, “in”) that a search engine has been programmed to ignore, both when indexing entries for searching and when retrieving them as the result of a search query. \n",
    " NLTK(Natural Language Toolkit) in python has a list of stopwords stored in 16 different languages. \n",
    " \n",
    " \n",
    "To check the list of stopwords you can type the following commands in the python shell.\n",
    "\n",
    "    print(stopwords.words('english'))\n",
    "    \n",
    "### Lemmatization \n",
    "is the process of grouping together the different inflected forms of a word so they can be analyzed as a single item. Lemmatization is similar to stemming but it brings context to the words. So it links words with similar meanings to one word. \n",
    "Text preprocessing includes both **Stemming** as well as Lemmatization. Many times people find these two terms confusing. Some treat these two as the same. Actually, lemmatization is preferred over Stemming because lemmatization does morphological analysis of the words.\n",
    "\n",
    "One major difference with stemming is that lemmatize takes a part of speech parameter, “pos” If not supplied, the default is “noun.”\n",
    "\n",
    "\n",
    "    Examples of lemmatization:\n",
    "\n",
    "    -> rocks : rock\n",
    "    -> corpora : corpus\n",
    "    -> better : good\n",
    "\n",
    "**implementation of lemmatization words using NLTK:**\n",
    "\n",
    "        # import these modules\n",
    "        from nltk.stem import WordNetLemmatizer\n",
    "\n",
    "        lemmatizer = WordNetLemmatizer()\n",
    "\n",
    "        print(\"rocks :\", lemmatizer.lemmatize(\"rocks\"))\n",
    "        print(\"corpora :\", lemmatizer.lemmatize(\"corpora\"))\n",
    "\n",
    "        # a denotes adjective in \"pos\"\n",
    "        print(\"better :\", lemmatizer.lemmatize(\"better\", pos =\"a\"))\n",
    "\n",
    "\n",
    "### Stemmers \n",
    "Stemming refers to the process of removing suffixes/prefixes and reducing a word to some base form such that all different variants of that word can be represented by the same form (e.g., “walk” and “walking” are both reduced to “walk”).\n",
    "\n",
    "\n",
    "<img src=\"https://4.bp.blogspot.com/-2TTxs_BoAzo/WYaa4tm1HcI/AAAAAAAAACc/X6GNDx1SDPESDYH7po9ycVb3WZbGAyXuwCLcBGAs/s1600/422215_orig.png\" width=\"400\">\n",
    "\n",
    "\n",
    "* **Snowball Stemmer** It is a stemming algorithm which is also known as the Porter2 stemming algorithm as it is a better version of the Porter Stemmer since some issues of it were fixed in this stemmer. You can also quickly check what stem would be returned for a given word or words using the snowball site. Under its demo section, you can easily see what this algorithm does for various different words.\n",
    "\n",
    "* **Other Stemming Algorithms:**\n",
    "    * **Porter Stemmer**: This is an old stemming algorithm which was developed by Martin Porter in 1980. As compared to other algorithms it is a very gentle stemming algorithm.\n",
    "    * **Lancaster Stemmer**: It is the most aggressive stemming algorithm. We can also add our own custom rules in this algorithm when we implement this using the NLTK package. Since it’s aggressive it can sometimes give strange stems as well.\n",
    " \n",
    "**Drawbacks of Stemming:**\n",
    "\n",
    "Issues of over stemming and under stemming may lead to not so meaningful or inappropriate stems.\n",
    "Stemming does not consider how the word is being used. For example – the word ‘saw‘ will be stemmed to ‘saw‘ itself but it won’t be considered whether the word is being used as a noun or a verb in the context. For this reason, ***Lemmatization*** is used as it keeps this fact in consideration and will return either ‘see’ or ‘saw’ depending on whether the word ‘saw’ was used as a verb or a noun.\n",
    "\n",
    "**implementation of Snowball Stemmer words using NLTK:**\n",
    "        import nltk\n",
    "        from nltk.stem.snowball import SnowballStemmer\n",
    "\n",
    "        #the stemmer requires a language parameter\n",
    "        snow_stemmer = SnowballStemmer(language='english')\n",
    "\n",
    "        #list of tokenized words\n",
    "        words = ['cared','university','fairly','easily','singing',\n",
    "               'sings','sung','singer','sportingly']\n",
    "\n",
    "        #stem's of each word\n",
    "        stem_words = []\n",
    "        for w in words:\n",
    "            x = snow_stemmer.stem(w)\n",
    "            stem_words.append(x)\n",
    "\n",
    "        #print stemming results\n",
    "        for e1,e2 in zip(words,stem_words):\n",
    "            print(e1+' ----> '+e2)\n"
   ]
  },
  {
   "cell_type": "code",
   "execution_count": 15,
   "id": "d9e3c63e",
   "metadata": {
    "execution": {
     "iopub.execute_input": "2023-01-21T15:09:37.324880Z",
     "iopub.status.busy": "2023-01-21T15:09:37.323890Z",
     "iopub.status.idle": "2023-01-21T15:09:37.332266Z",
     "shell.execute_reply": "2023-01-21T15:09:37.331556Z"
    },
    "papermill": {
     "duration": 0.026144,
     "end_time": "2023-01-21T15:09:37.334358",
     "exception": false,
     "start_time": "2023-01-21T15:09:37.308214",
     "status": "completed"
    },
    "tags": []
   },
   "outputs": [],
   "source": [
    "def preprocessing(sentence):\n",
    "    \"\"\"\n",
    "    lowecase, tokenize, drop stop words\n",
    "    lemmatization and stemming\n",
    "    \"\"\"\n",
    "    sentence = sentence.lower()\n",
    "    sentence = re.sub(r\"<br />\", \"\", sentence)\n",
    "    sentence = re.sub(r\"[^a-z0-9 ]\", \"\", sentence) ## [a-z0-9 ] means we just want alphabetic and numeric characters and space. can select the opposite of this (i.e., anything that isn’t a word or number or whitespace) using the ^ character\n",
    "    sentence = re.sub(r\"\\s+\", \" \", sentence)     ## Eliminate duplicate whitespaces using wildcards\n",
    "    #Take care to always prefix patterns containing \\ escapes with raw strings\n",
    "    # (by adding an r in front of the string). Otherwise the \\ is used as an escape sequence and the regex won’t work.\n",
    "    sentence = re.sub(r\"\\s+\", \" \", sentence)     ## Eliminate duplicate whitespaces using wildcards (+ = matches 1 or more, * = 0 or more)\n",
    "    tokenized = nltk.tokenize.word_tokenize(sentence)\n",
    "    \n",
    "    # Instead of nltk.tokenize.word_tokenize() we can use nltk.tokenize.RegexpTokenizer() \n",
    "    # With the help of NLTK tokenize.regexp() module,\n",
    "    # we are able to extract the tokens from string by using \n",
    "    # regular expression with RegexpTokenizer() method.\n",
    "    \n",
    "    # remove stop words\n",
    "    stop_words = nltk.corpus.stopwords.words('english')\n",
    "    tokenized = [word for word in tokenized if word not in stop_words]\n",
    "    \n",
    "    # lemmatization\n",
    "    lemmatizer = nltk.stem.WordNetLemmatizer()\n",
    "    lemmas = [lemmatizer.lemmatize(word) for word in tokenized]\n",
    "    \n",
    "    # stemming\n",
    "    stemmer = nltk.stem.PorterStemmer()\n",
    "    stems = [stemmer.stem(word) for word in tokenized]\n",
    "    \n",
    "    return sentence, tokenized, lemmas, stems"
   ]
  },
  {
   "cell_type": "code",
   "execution_count": 16,
   "id": "b382263e",
   "metadata": {
    "execution": {
     "iopub.execute_input": "2023-01-21T15:09:37.365690Z",
     "iopub.status.busy": "2023-01-21T15:09:37.364579Z",
     "iopub.status.idle": "2023-01-21T15:10:32.244540Z",
     "shell.execute_reply": "2023-01-21T15:10:32.243533Z"
    },
    "papermill": {
     "duration": 54.897936,
     "end_time": "2023-01-21T15:10:32.246752",
     "exception": false,
     "start_time": "2023-01-21T15:09:37.348816",
     "status": "completed"
    },
    "tags": []
   },
   "outputs": [
    {
     "data": {
      "application/vnd.jupyter.widget-view+json": {
       "model_id": "bc05d0f6ffb8412581338501d64f3ef4",
       "version_major": 2,
       "version_minor": 0
      },
      "text/plain": [
       "  0%|          | 0/10000 [00:00<?, ?it/s]"
      ]
     },
     "metadata": {},
     "output_type": "display_data"
    }
   ],
   "source": [
    "sentences, tokenized, lemmas, stems = [], [], [], []\n",
    "for i in tqdm(range(len(df))):\n",
    "    sentence_, tokenized_, lemmas_, stems_ = preprocessing(df['review'].iloc[i])\n",
    "    sentences.append(sentence_)\n",
    "    tokenized.append(tokenized_)\n",
    "    lemmas.append(lemmas_)\n",
    "    stems.append(stems_)\n",
    "    "
   ]
  },
  {
   "cell_type": "code",
   "execution_count": 17,
   "id": "d66942dd",
   "metadata": {
    "execution": {
     "iopub.execute_input": "2023-01-21T15:10:32.277028Z",
     "iopub.status.busy": "2023-01-21T15:10:32.276631Z",
     "iopub.status.idle": "2023-01-21T15:10:32.299644Z",
     "shell.execute_reply": "2023-01-21T15:10:32.298220Z"
    },
    "papermill": {
     "duration": 0.041208,
     "end_time": "2023-01-21T15:10:32.302345",
     "exception": false,
     "start_time": "2023-01-21T15:10:32.261137",
     "status": "completed"
    },
    "tags": []
   },
   "outputs": [],
   "source": [
    "df['review'] = sentences\n",
    "df['token_wo_stop'] = tokenized\n",
    "df['lemma'] = lemmas\n",
    "df['stem'] = stems"
   ]
  },
  {
   "cell_type": "code",
   "execution_count": 18,
   "id": "f2701607",
   "metadata": {
    "execution": {
     "iopub.execute_input": "2023-01-21T15:10:32.333825Z",
     "iopub.status.busy": "2023-01-21T15:10:32.332650Z",
     "iopub.status.idle": "2023-01-21T15:10:32.973002Z",
     "shell.execute_reply": "2023-01-21T15:10:32.972352Z"
    },
    "papermill": {
     "duration": 0.658688,
     "end_time": "2023-01-21T15:10:32.975493",
     "exception": false,
     "start_time": "2023-01-21T15:10:32.316805",
     "status": "completed"
    },
    "tags": []
   },
   "outputs": [],
   "source": [
    "token_counter = Counter()\n",
    "lemma_counter = Counter()\n",
    "stem_counter = Counter()\n",
    "\n",
    "df['token_wo_stop'].map(lambda x: token_counter.update(x))\n",
    "df['lemma'].map(lambda x: lemma_counter.update(x))\n",
    "df['stem'].map(lambda x: stem_counter.update(x));"
   ]
  },
  {
   "cell_type": "code",
   "execution_count": 19,
   "id": "25f9ff1a",
   "metadata": {
    "execution": {
     "iopub.execute_input": "2023-01-21T15:10:33.006935Z",
     "iopub.status.busy": "2023-01-21T15:10:33.005555Z",
     "iopub.status.idle": "2023-01-21T15:10:33.013431Z",
     "shell.execute_reply": "2023-01-21T15:10:33.012338Z"
    },
    "papermill": {
     "duration": 0.025312,
     "end_time": "2023-01-21T15:10:33.015327",
     "exception": false,
     "start_time": "2023-01-21T15:10:32.990015",
     "status": "completed"
    },
    "tags": []
   },
   "outputs": [
    {
     "data": {
      "text/plain": [
       "[74855, 82627, 76347, 63249]"
      ]
     },
     "execution_count": 19,
     "metadata": {},
     "output_type": "execute_result"
    }
   ],
   "source": [
    "list(map(len, [word_counter, token_counter, lemma_counter, stem_counter]))"
   ]
  },
  {
   "cell_type": "code",
   "execution_count": 20,
   "id": "51dfad34",
   "metadata": {
    "execution": {
     "iopub.execute_input": "2023-01-21T15:10:33.045703Z",
     "iopub.status.busy": "2023-01-21T15:10:33.044786Z",
     "iopub.status.idle": "2023-01-21T15:10:33.465227Z",
     "shell.execute_reply": "2023-01-21T15:10:33.464325Z"
    },
    "papermill": {
     "duration": 0.437636,
     "end_time": "2023-01-21T15:10:33.467155",
     "exception": false,
     "start_time": "2023-01-21T15:10:33.029519",
     "status": "completed"
    },
    "tags": []
   },
   "outputs": [
    {
     "data": {
      "image/png": "[encoded data removed]",
      "text/plain": [
       "<Figure size 864x720 with 4 Axes>"
      ]
     },
     "metadata": {
      "needs_background": "light"
     },
     "output_type": "display_data"
    }
   ],
   "source": [
    "word_common = {k:v for k, v in word_counter.most_common(10)}\n",
    "token_common = {k:v for k, v in token_counter.most_common(10)}\n",
    "lemma_common = {k:v for k, v in lemma_counter.most_common(10)}\n",
    "stem_common = {k:v for k, v in stem_counter.most_common(10)}\n",
    "\n",
    "fig, axes = plt.subplots(2,2,figsize=(12,10))\n",
    "for i, common in enumerate([word_common,token_common,lemma_common,stem_common]):\n",
    "    squarify.plot(sizes = common.values(), label = common.keys(),\n",
    "                  ax=axes[i//2, i%2], alpha=0.5, text_kwargs={'fontsize': 12})\n",
    "    axes[i//2, i%2].axis('off')\n",
    "    \n",
    "axes[0,0].set_title(\"All Words\", fontsize=16)\n",
    "axes[0, 1].set_title(\"without stop words\", fontsize=16)\n",
    "axes[1, 0].set_title(\"Lemmas\", fontsize=16)\n",
    "axes[1, 1].set_title(\"Stems\", fontsize=16)\n",
    "plt.suptitle(\"Most Frequent Words in IMDB Reviews\", fontsize=18)\n",
    "plt.tight_layout()\n",
    "plt.show()"
   ]
  },
  {
   "cell_type": "markdown",
   "id": "ea53b32f",
   "metadata": {
    "papermill": {
     "duration": 0.014297,
     "end_time": "2023-01-21T15:10:33.496459",
     "exception": false,
     "start_time": "2023-01-21T15:10:33.482162",
     "status": "completed"
    },
    "tags": []
   },
   "source": [
    "# 2. Word Representation\n",
    "\n",
    "## a. Count base Representation\n",
    "\n",
    "### i. CounterVectorizer\n",
    "\n",
    "**Convert a collection of text documents to a matrix of token counts.**\n",
    "If you do not provide an a-priori dictionary and you do not use an analyzer that does some kind of feature selection then the number of features will be equal to the vocabulary size found by analyzing the data.\n",
    "\n",
    "BoW maps words to unique integer IDs between 1 and |V|. Each \"document\" in the \"corpus\" is then converted into a vector of |V| dimensions were in the ith component of the vector, i = wid, is simply the number of times the word w occurs in the document, i.e., we simply score each word in V by their occurrence count in the document."
   ]
  },
  {
   "cell_type": "code",
   "execution_count": 21,
   "id": "9b884115",
   "metadata": {
    "execution": {
     "iopub.execute_input": "2023-01-21T15:10:33.527283Z",
     "iopub.status.busy": "2023-01-21T15:10:33.526588Z",
     "iopub.status.idle": "2023-01-21T15:10:35.362598Z",
     "shell.execute_reply": "2023-01-21T15:10:35.361639Z"
    },
    "papermill": {
     "duration": 1.853969,
     "end_time": "2023-01-21T15:10:35.364856",
     "exception": false,
     "start_time": "2023-01-21T15:10:33.510887",
     "status": "completed"
    },
    "tags": []
   },
   "outputs": [
    {
     "data": {
      "text/html": [
       "<div>\n",
       "<style scoped>\n",
       "    .dataframe tbody tr th:only-of-type {\n",
       "        vertical-align: middle;\n",
       "    }\n",
       "\n",
       "    .dataframe tbody tr th {\n",
       "        vertical-align: top;\n",
       "    }\n",
       "\n",
       "    .dataframe thead th {\n",
       "        text-align: right;\n",
       "    }\n",
       "</style>\n",
       "<table border=\"1\" class=\"dataframe\">\n",
       "  <thead>\n",
       "    <tr style=\"text-align: right;\">\n",
       "      <th></th>\n",
       "      <th>10</th>\n",
       "      <th>100</th>\n",
       "      <th>12</th>\n",
       "      <th>15</th>\n",
       "      <th>20</th>\n",
       "      <th>30</th>\n",
       "      <th>70s</th>\n",
       "      <th>80s</th>\n",
       "      <th>ability</th>\n",
       "      <th>able</th>\n",
       "      <th>...</th>\n",
       "      <th>year</th>\n",
       "      <th>years</th>\n",
       "      <th>yes</th>\n",
       "      <th>york</th>\n",
       "      <th>youll</th>\n",
       "      <th>young</th>\n",
       "      <th>younger</th>\n",
       "      <th>youre</th>\n",
       "      <th>youve</th>\n",
       "      <th>zombie</th>\n",
       "    </tr>\n",
       "  </thead>\n",
       "  <tbody>\n",
       "    <tr>\n",
       "      <th>0</th>\n",
       "      <td>0</td>\n",
       "      <td>0</td>\n",
       "      <td>0</td>\n",
       "      <td>0</td>\n",
       "      <td>0</td>\n",
       "      <td>0</td>\n",
       "      <td>0</td>\n",
       "      <td>0</td>\n",
       "      <td>0</td>\n",
       "      <td>0</td>\n",
       "      <td>...</td>\n",
       "      <td>0</td>\n",
       "      <td>0</td>\n",
       "      <td>0</td>\n",
       "      <td>0</td>\n",
       "      <td>1</td>\n",
       "      <td>0</td>\n",
       "      <td>0</td>\n",
       "      <td>0</td>\n",
       "      <td>0</td>\n",
       "      <td>0</td>\n",
       "    </tr>\n",
       "    <tr>\n",
       "      <th>1</th>\n",
       "      <td>0</td>\n",
       "      <td>1</td>\n",
       "      <td>0</td>\n",
       "      <td>0</td>\n",
       "      <td>0</td>\n",
       "      <td>0</td>\n",
       "      <td>0</td>\n",
       "      <td>0</td>\n",
       "      <td>0</td>\n",
       "      <td>1</td>\n",
       "      <td>...</td>\n",
       "      <td>0</td>\n",
       "      <td>1</td>\n",
       "      <td>0</td>\n",
       "      <td>0</td>\n",
       "      <td>0</td>\n",
       "      <td>0</td>\n",
       "      <td>0</td>\n",
       "      <td>0</td>\n",
       "      <td>0</td>\n",
       "      <td>0</td>\n",
       "    </tr>\n",
       "    <tr>\n",
       "      <th>2</th>\n",
       "      <td>0</td>\n",
       "      <td>0</td>\n",
       "      <td>0</td>\n",
       "      <td>0</td>\n",
       "      <td>0</td>\n",
       "      <td>0</td>\n",
       "      <td>0</td>\n",
       "      <td>0</td>\n",
       "      <td>0</td>\n",
       "      <td>0</td>\n",
       "      <td>...</td>\n",
       "      <td>0</td>\n",
       "      <td>0</td>\n",
       "      <td>0</td>\n",
       "      <td>0</td>\n",
       "      <td>0</td>\n",
       "      <td>0</td>\n",
       "      <td>0</td>\n",
       "      <td>0</td>\n",
       "      <td>0</td>\n",
       "      <td>0</td>\n",
       "    </tr>\n",
       "    <tr>\n",
       "      <th>3</th>\n",
       "      <td>0</td>\n",
       "      <td>0</td>\n",
       "      <td>0</td>\n",
       "      <td>0</td>\n",
       "      <td>0</td>\n",
       "      <td>0</td>\n",
       "      <td>0</td>\n",
       "      <td>0</td>\n",
       "      <td>0</td>\n",
       "      <td>0</td>\n",
       "      <td>...</td>\n",
       "      <td>4</td>\n",
       "      <td>0</td>\n",
       "      <td>1</td>\n",
       "      <td>0</td>\n",
       "      <td>0</td>\n",
       "      <td>0</td>\n",
       "      <td>0</td>\n",
       "      <td>0</td>\n",
       "      <td>0</td>\n",
       "      <td>0</td>\n",
       "    </tr>\n",
       "    <tr>\n",
       "      <th>4</th>\n",
       "      <td>1</td>\n",
       "      <td>0</td>\n",
       "      <td>0</td>\n",
       "      <td>0</td>\n",
       "      <td>0</td>\n",
       "      <td>0</td>\n",
       "      <td>0</td>\n",
       "      <td>0</td>\n",
       "      <td>1</td>\n",
       "      <td>0</td>\n",
       "      <td>...</td>\n",
       "      <td>0</td>\n",
       "      <td>2</td>\n",
       "      <td>0</td>\n",
       "      <td>0</td>\n",
       "      <td>0</td>\n",
       "      <td>0</td>\n",
       "      <td>0</td>\n",
       "      <td>0</td>\n",
       "      <td>0</td>\n",
       "      <td>0</td>\n",
       "    </tr>\n",
       "  </tbody>\n",
       "</table>\n",
       "<p>5 rows × 1000 columns</p>\n",
       "</div>"
      ],
      "text/plain": [
       "   10  100  12  15  20  30  70s  80s  ability  able  ...  year  years  yes  \\\n",
       "0   0    0   0   0   0   0    0    0        0     0  ...     0      0    0   \n",
       "1   0    1   0   0   0   0    0    0        0     1  ...     0      1    0   \n",
       "2   0    0   0   0   0   0    0    0        0     0  ...     0      0    0   \n",
       "3   0    0   0   0   0   0    0    0        0     0  ...     4      0    1   \n",
       "4   1    0   0   0   0   0    0    0        1     0  ...     0      2    0   \n",
       "\n",
       "   york  youll  young  younger  youre  youve  zombie  \n",
       "0     0      1      0        0      0      0       0  \n",
       "1     0      0      0        0      0      0       0  \n",
       "2     0      0      0        0      0      0       0  \n",
       "3     0      0      0        0      0      0       0  \n",
       "4     0      0      0        0      0      0       0  \n",
       "\n",
       "[5 rows x 1000 columns]"
      ]
     },
     "execution_count": 21,
     "metadata": {},
     "output_type": "execute_result"
    }
   ],
   "source": [
    "from sklearn.feature_extraction.text import CountVectorizer\n",
    "count_vectorizer = CountVectorizer(stop_words='english', max_features=1000)\n",
    "count_vectorized = count_vectorizer.fit_transform(df['review'])\n",
    "count_vectorized = pd.DataFrame(count_vectorized.todense(), columns=count_vectorizer.get_feature_names_out())\n",
    "count_vectorized.head()"
   ]
  },
  {
   "cell_type": "markdown",
   "id": "55a7bc68",
   "metadata": {
    "papermill": {
     "duration": 0.015745,
     "end_time": "2023-01-21T15:10:35.402450",
     "exception": false,
     "start_time": "2023-01-21T15:10:35.386705",
     "status": "completed"
    },
    "tags": []
   },
   "source": [
    "In below code block we find six most common words in each rows of review column"
   ]
  },
  {
   "cell_type": "code",
   "execution_count": 22,
   "id": "7032cff7",
   "metadata": {
    "execution": {
     "iopub.execute_input": "2023-01-21T15:10:35.437725Z",
     "iopub.status.busy": "2023-01-21T15:10:35.436322Z",
     "iopub.status.idle": "2023-01-21T15:10:38.267184Z",
     "shell.execute_reply": "2023-01-21T15:10:38.265547Z"
    },
    "papermill": {
     "duration": 2.851784,
     "end_time": "2023-01-21T15:10:38.269800",
     "exception": false,
     "start_time": "2023-01-21T15:10:35.418016",
     "status": "completed"
    },
    "tags": []
   },
   "outputs": [
    {
     "data": {
      "application/vnd.jupyter.widget-view+json": {
       "model_id": "dbd6e5935cd94a899a06f52b91d54d34",
       "version_major": 2,
       "version_minor": 0
      },
      "text/plain": [
       "  0%|          | 0/10000 [00:00<?, ?it/s]"
      ]
     },
     "metadata": {},
     "output_type": "display_data"
    }
   ],
   "source": [
    "common_word_in_rows = []\n",
    "for i, row in tqdm(count_vectorized.iterrows(), total=10000):\n",
    "    word_counts = {k: v for k, v in row.sort_values(ascending=False)[:6].items()}\n",
    "    common_word_in_rows.append(word_counts)"
   ]
  },
  {
   "cell_type": "code",
   "execution_count": 23,
   "id": "e17b8b55",
   "metadata": {
    "execution": {
     "iopub.execute_input": "2023-01-21T15:10:38.304550Z",
     "iopub.status.busy": "2023-01-21T15:10:38.304158Z",
     "iopub.status.idle": "2023-01-21T15:10:38.311843Z",
     "shell.execute_reply": "2023-01-21T15:10:38.310172Z"
    },
    "papermill": {
     "duration": 0.028243,
     "end_time": "2023-01-21T15:10:38.313932",
     "exception": false,
     "start_time": "2023-01-21T15:10:38.285689",
     "status": "completed"
    },
    "tags": []
   },
   "outputs": [
    {
     "name": "stdout",
     "output_type": "stream",
     "text": [
      "Text:\n",
      " soul plane is a horrible attempt at comedy that only should appeal people with thick skulls bloodshot eyes and furry pawns the plot is not only incoherent but also nonexistent acting is mostly sub sub |nCommon words:\n",
      " {'really': 2, 'lot': 1, 'comedy': 1, 'rent': 1, 'bad': 1, 'probably': 1} \n",
      "Label:\n",
      " negative\n",
      "Text:\n",
      " guest from the future tells a fascinating story of time travel friendship battle of good and evil all with a small budget child actors and few special effects something for spielberg and lucas to lear |nCommon words:\n",
      " {'time': 3, 'evil': 2, 'like': 2, 'good': 2, 'future': 2, 'hands': 2} \n",
      "Label:\n",
      " positive\n",
      "Text:\n",
      " national treasure 2004 is a thoroughly misguided hodgepodge of plot entanglements that borrow from nearly every cloak and dagger government conspiracy clich that has ever been written the film stars n |nCommon words:\n",
      " {'ben': 7, 'film': 6, 'good': 2, 'pick': 2, 'make': 2, 'meets': 2} \n",
      "Label:\n",
      " negative\n",
      "Text:\n",
      " ok first said i just wanted to check whether this movie has an average rating below or exactly 1 but 59 this is sicker than any of the killers proceedings that made me curious what people wrote here w |nCommon words:\n",
      " {'movie': 9, 'bad': 4, 'year': 4, 'movies': 3, 'watching': 3, 'simply': 3} \n",
      "Label:\n",
      " negative\n",
      "Text:\n",
      " i havent always been a fan but the show grew on me it wasnt until after season 5 that i started to see the richness of the show they finally brought daniel jacksons search for his wife to an end and f |nCommon words:\n",
      " {'character': 11, 'end': 4, 'job': 4, 'finally': 3, 'little': 3, 'like': 3} \n",
      "Label:\n",
      " positive\n"
     ]
    }
   ],
   "source": [
    "for i in range(5):\n",
    "    print('Text:\\n',df['review'].iloc[i][:200], '|nCommon words:\\n',\n",
    "         common_word_in_rows[i],'\\nLabel:\\n',df['sentiment'][i])"
   ]
  },
  {
   "cell_type": "markdown",
   "id": "2bde7f74",
   "metadata": {
    "papermill": {
     "duration": 0.014942,
     "end_time": "2023-01-21T15:10:38.344924",
     "exception": false,
     "start_time": "2023-01-21T15:10:38.329982",
     "status": "completed"
    },
    "tags": []
   },
   "source": [
    "### ii.TfidfVectorizer"
   ]
  },
  {
   "attachments": {
    "4a75bef5-8d55-4d8a-8b29-d596ba239598.png": {
     "image/png": "[encoded data removed]"
    },
    "57534bb2-1a33-4fb5-a2e7-d55003fa8698.png": {
     "image/png": "[encoded data removed]"
    },
    "69f44e73-0fa9-4e8e-b341-303bd47ddc95.png": {
     "image/png": "[encoded data removed]"
    }
   },
   "cell_type": "markdown",
   "id": "0c6ac2bd",
   "metadata": {
    "papermill": {
     "duration": 0.015152,
     "end_time": "2023-01-21T15:10:38.375548",
     "exception": false,
     "start_time": "2023-01-21T15:10:38.360396",
     "status": "completed"
    },
    "tags": []
   },
   "source": [
    "TF-IDF Formula Explained\n",
    "Now let’s take a look at the simple formula behind the TF-IDF statistical measure. First let’s define some notations:\n",
    "\n",
    "* N is the number of documents we have in our dataset\n",
    "* d is a given document from our dataset\n",
    "* D is the collection of all documents\n",
    "* w is a given word in a document\n",
    "\n",
    "First step is to calculate the term frequency, our first measure if the score.\n",
    "\n",
    "<img src=\"attachment:69f44e73-0fa9-4e8e-b341-303bd47ddc95.png\" width=\"400\">\n",
    "\n",
    "Here f(w,d) is the frequency of word w in document d.\n",
    "\n",
    "Second step is to calculate the inverse term frequency.\n",
    "\n",
    "<img src=\"attachment:57534bb2-1a33-4fb5-a2e7-d55003fa8698.png\" width=\"400\">\n",
    "\n",
    "With N documents in the dataset and f(w, D) the frequency of word w in the whole dataset, this number will be lower with more appearances of the word in the whole dataset. (sklearn definition for the document frequency is the number of documents in the document set that contain the word w)\n",
    "\n",
    "Final step is to compute the TF-IDF score by the following formula:\n",
    "\n",
    "<img src=\"attachment:4a75bef5-8d55-4d8a-8b29-d596ba239598.png\" width=\"400\">\n",
    "\n",
    "The goal of using tf-idf instead of the raw frequencies of occurrence of a token in a given document is to scale down the impact of tokens that occur very frequently in a given corpus (collection of all documents) and that are hence empirically less informative than features that occur in a small fraction of the training corpus."
   ]
  },
  {
   "cell_type": "code",
   "execution_count": 24,
   "id": "860b97ac",
   "metadata": {
    "execution": {
     "iopub.execute_input": "2023-01-21T15:10:38.409174Z",
     "iopub.status.busy": "2023-01-21T15:10:38.408796Z",
     "iopub.status.idle": "2023-01-21T15:10:39.986858Z",
     "shell.execute_reply": "2023-01-21T15:10:39.985469Z"
    },
    "papermill": {
     "duration": 1.598656,
     "end_time": "2023-01-21T15:10:39.989357",
     "exception": false,
     "start_time": "2023-01-21T15:10:38.390701",
     "status": "completed"
    },
    "tags": []
   },
   "outputs": [
    {
     "data": {
      "text/html": [
       "<div>\n",
       "<style scoped>\n",
       "    .dataframe tbody tr th:only-of-type {\n",
       "        vertical-align: middle;\n",
       "    }\n",
       "\n",
       "    .dataframe tbody tr th {\n",
       "        vertical-align: top;\n",
       "    }\n",
       "\n",
       "    .dataframe thead th {\n",
       "        text-align: right;\n",
       "    }\n",
       "</style>\n",
       "<table border=\"1\" class=\"dataframe\">\n",
       "  <thead>\n",
       "    <tr style=\"text-align: right;\">\n",
       "      <th></th>\n",
       "      <th>10</th>\n",
       "      <th>100</th>\n",
       "      <th>12</th>\n",
       "      <th>15</th>\n",
       "      <th>20</th>\n",
       "      <th>30</th>\n",
       "      <th>70s</th>\n",
       "      <th>80s</th>\n",
       "      <th>ability</th>\n",
       "      <th>able</th>\n",
       "      <th>...</th>\n",
       "      <th>year</th>\n",
       "      <th>years</th>\n",
       "      <th>yes</th>\n",
       "      <th>york</th>\n",
       "      <th>youll</th>\n",
       "      <th>young</th>\n",
       "      <th>younger</th>\n",
       "      <th>youre</th>\n",
       "      <th>youve</th>\n",
       "      <th>zombie</th>\n",
       "    </tr>\n",
       "  </thead>\n",
       "  <tbody>\n",
       "    <tr>\n",
       "      <th>0</th>\n",
       "      <td>0.000000</td>\n",
       "      <td>0.000000</td>\n",
       "      <td>0.0</td>\n",
       "      <td>0.0</td>\n",
       "      <td>0.0</td>\n",
       "      <td>0.0</td>\n",
       "      <td>0.0</td>\n",
       "      <td>0.0</td>\n",
       "      <td>0.000000</td>\n",
       "      <td>0.000000</td>\n",
       "      <td>...</td>\n",
       "      <td>0.000000</td>\n",
       "      <td>0.000000</td>\n",
       "      <td>0.000000</td>\n",
       "      <td>0.0</td>\n",
       "      <td>0.219424</td>\n",
       "      <td>0.0</td>\n",
       "      <td>0.0</td>\n",
       "      <td>0.0</td>\n",
       "      <td>0.0</td>\n",
       "      <td>0.0</td>\n",
       "    </tr>\n",
       "    <tr>\n",
       "      <th>1</th>\n",
       "      <td>0.000000</td>\n",
       "      <td>0.139072</td>\n",
       "      <td>0.0</td>\n",
       "      <td>0.0</td>\n",
       "      <td>0.0</td>\n",
       "      <td>0.0</td>\n",
       "      <td>0.0</td>\n",
       "      <td>0.0</td>\n",
       "      <td>0.000000</td>\n",
       "      <td>0.112593</td>\n",
       "      <td>...</td>\n",
       "      <td>0.000000</td>\n",
       "      <td>0.082681</td>\n",
       "      <td>0.000000</td>\n",
       "      <td>0.0</td>\n",
       "      <td>0.000000</td>\n",
       "      <td>0.0</td>\n",
       "      <td>0.0</td>\n",
       "      <td>0.0</td>\n",
       "      <td>0.0</td>\n",
       "      <td>0.0</td>\n",
       "    </tr>\n",
       "    <tr>\n",
       "      <th>2</th>\n",
       "      <td>0.000000</td>\n",
       "      <td>0.000000</td>\n",
       "      <td>0.0</td>\n",
       "      <td>0.0</td>\n",
       "      <td>0.0</td>\n",
       "      <td>0.0</td>\n",
       "      <td>0.0</td>\n",
       "      <td>0.0</td>\n",
       "      <td>0.000000</td>\n",
       "      <td>0.000000</td>\n",
       "      <td>...</td>\n",
       "      <td>0.000000</td>\n",
       "      <td>0.000000</td>\n",
       "      <td>0.000000</td>\n",
       "      <td>0.0</td>\n",
       "      <td>0.000000</td>\n",
       "      <td>0.0</td>\n",
       "      <td>0.0</td>\n",
       "      <td>0.0</td>\n",
       "      <td>0.0</td>\n",
       "      <td>0.0</td>\n",
       "    </tr>\n",
       "    <tr>\n",
       "      <th>3</th>\n",
       "      <td>0.000000</td>\n",
       "      <td>0.000000</td>\n",
       "      <td>0.0</td>\n",
       "      <td>0.0</td>\n",
       "      <td>0.0</td>\n",
       "      <td>0.0</td>\n",
       "      <td>0.0</td>\n",
       "      <td>0.0</td>\n",
       "      <td>0.000000</td>\n",
       "      <td>0.000000</td>\n",
       "      <td>...</td>\n",
       "      <td>0.280215</td>\n",
       "      <td>0.000000</td>\n",
       "      <td>0.072106</td>\n",
       "      <td>0.0</td>\n",
       "      <td>0.000000</td>\n",
       "      <td>0.0</td>\n",
       "      <td>0.0</td>\n",
       "      <td>0.0</td>\n",
       "      <td>0.0</td>\n",
       "      <td>0.0</td>\n",
       "    </tr>\n",
       "    <tr>\n",
       "      <th>4</th>\n",
       "      <td>0.052165</td>\n",
       "      <td>0.000000</td>\n",
       "      <td>0.0</td>\n",
       "      <td>0.0</td>\n",
       "      <td>0.0</td>\n",
       "      <td>0.0</td>\n",
       "      <td>0.0</td>\n",
       "      <td>0.0</td>\n",
       "      <td>0.071723</td>\n",
       "      <td>0.000000</td>\n",
       "      <td>...</td>\n",
       "      <td>0.000000</td>\n",
       "      <td>0.085379</td>\n",
       "      <td>0.000000</td>\n",
       "      <td>0.0</td>\n",
       "      <td>0.000000</td>\n",
       "      <td>0.0</td>\n",
       "      <td>0.0</td>\n",
       "      <td>0.0</td>\n",
       "      <td>0.0</td>\n",
       "      <td>0.0</td>\n",
       "    </tr>\n",
       "  </tbody>\n",
       "</table>\n",
       "<p>5 rows × 1000 columns</p>\n",
       "</div>"
      ],
      "text/plain": [
       "         10       100   12   15   20   30  70s  80s   ability      able  ...  \\\n",
       "0  0.000000  0.000000  0.0  0.0  0.0  0.0  0.0  0.0  0.000000  0.000000  ...   \n",
       "1  0.000000  0.139072  0.0  0.0  0.0  0.0  0.0  0.0  0.000000  0.112593  ...   \n",
       "2  0.000000  0.000000  0.0  0.0  0.0  0.0  0.0  0.0  0.000000  0.000000  ...   \n",
       "3  0.000000  0.000000  0.0  0.0  0.0  0.0  0.0  0.0  0.000000  0.000000  ...   \n",
       "4  0.052165  0.000000  0.0  0.0  0.0  0.0  0.0  0.0  0.071723  0.000000  ...   \n",
       "\n",
       "       year     years       yes  york     youll  young  younger  youre  youve  \\\n",
       "0  0.000000  0.000000  0.000000   0.0  0.219424    0.0      0.0    0.0    0.0   \n",
       "1  0.000000  0.082681  0.000000   0.0  0.000000    0.0      0.0    0.0    0.0   \n",
       "2  0.000000  0.000000  0.000000   0.0  0.000000    0.0      0.0    0.0    0.0   \n",
       "3  0.280215  0.000000  0.072106   0.0  0.000000    0.0      0.0    0.0    0.0   \n",
       "4  0.000000  0.085379  0.000000   0.0  0.000000    0.0      0.0    0.0    0.0   \n",
       "\n",
       "   zombie  \n",
       "0     0.0  \n",
       "1     0.0  \n",
       "2     0.0  \n",
       "3     0.0  \n",
       "4     0.0  \n",
       "\n",
       "[5 rows x 1000 columns]"
      ]
     },
     "execution_count": 24,
     "metadata": {},
     "output_type": "execute_result"
    }
   ],
   "source": [
    "from sklearn.feature_extraction.text import TfidfVectorizer\n",
    "tfidf_vectorizer = TfidfVectorizer(stop_words='english', max_features=1000)\n",
    "tfidf_vectorized = tfidf_vectorizer.fit_transform(df['review'])\n",
    "tfidf_vectorized = pd.DataFrame(tfidf_vectorized.todense(), columns=tfidf_vectorizer.get_feature_names_out())\n",
    "tfidf_vectorized.head()"
   ]
  },
  {
   "cell_type": "code",
   "execution_count": 25,
   "id": "c4a5c78a",
   "metadata": {
    "execution": {
     "iopub.execute_input": "2023-01-21T15:10:40.025189Z",
     "iopub.status.busy": "2023-01-21T15:10:40.023963Z",
     "iopub.status.idle": "2023-01-21T15:10:42.872442Z",
     "shell.execute_reply": "2023-01-21T15:10:42.871074Z"
    },
    "papermill": {
     "duration": 2.867881,
     "end_time": "2023-01-21T15:10:42.874593",
     "exception": false,
     "start_time": "2023-01-21T15:10:40.006712",
     "status": "completed"
    },
    "tags": []
   },
   "outputs": [
    {
     "data": {
      "application/vnd.jupyter.widget-view+json": {
       "model_id": "070cc281dedc463fad326064b3d59a89",
       "version_major": 2,
       "version_minor": 0
      },
      "text/plain": [
       "  0%|          | 0/10000 [00:00<?, ?it/s]"
      ]
     },
     "metadata": {},
     "output_type": "display_data"
    }
   ],
   "source": [
    "common_word_in_rows = []\n",
    "for i, row in tqdm(tfidf_vectorized.iterrows(), total=10000):\n",
    "    word_counts = {k: v for k, v in row.sort_values(ascending=False)[:6].items()}\n",
    "    common_word_in_rows.append(word_counts)"
   ]
  },
  {
   "cell_type": "code",
   "execution_count": 26,
   "id": "cb18edae",
   "metadata": {
    "execution": {
     "iopub.execute_input": "2023-01-21T15:10:42.910695Z",
     "iopub.status.busy": "2023-01-21T15:10:42.910277Z",
     "iopub.status.idle": "2023-01-21T15:10:42.917150Z",
     "shell.execute_reply": "2023-01-21T15:10:42.915950Z"
    },
    "papermill": {
     "duration": 0.028259,
     "end_time": "2023-01-21T15:10:42.919685",
     "exception": false,
     "start_time": "2023-01-21T15:10:42.891426",
     "status": "completed"
    },
    "tags": []
   },
   "outputs": [
    {
     "name": "stdout",
     "output_type": "stream",
     "text": [
      "Text:\n",
      " soul plane is a horrible attempt at comedy that only should appeal people with thick skulls bloodshot eyes and furry pawns the plot is not only incoherent but also nonexistent acting is mostly sub sub... \n",
      "Words:\n",
      " {'amusing': 0.2714661191276634, 'hardly': 0.26179437486162627, 'rent': 0.24728819262945884, 'jokes': 0.246109722892856, 'really': 0.23440869978921994, 'attempt': 0.23010506178289805} \n",
      "Label: negative \n",
      "\n",
      "Text:\n",
      " guest from the future tells a fascinating story of time travel friendship battle of good and evil all with a small budget child actors and few special effects something for spielberg and lucas to lear... \n",
      "Words:\n",
      " {'hands': 0.2621802788127546, 'future': 0.2511777060415356, 'falls': 0.24721825115657362, 'evil': 0.2306909274087376, 'school': 0.2236250454338903, 'time': 0.17255974697765225} \n",
      "Label: positive \n",
      "\n",
      "Text:\n",
      " national treasure 2004 is a thoroughly misguided hodgepodge of plot entanglements that borrow from nearly every cloak and dagger government conspiracy clich that has ever been written the film stars n... \n",
      "Words:\n",
      " {'ben': 0.6696706082501324, 'pick': 0.17558769136322513, 'decides': 0.17385020023144276, 'film': 0.16871731530169576, 'meets': 0.1639218946131523, 'plan': 0.08978382520850273} \n",
      "Label: negative \n",
      "\n",
      "Text:\n",
      " ok first said i just wanted to check whether this movie has an average rating below or exactly 1 but 59 this is sicker than any of the killers proceedings that made me curious what people wrote here w... \n",
      "Words:\n",
      " {'year': 0.2802154461167219, 'movie': 0.2451849448807621, 'simply': 0.20301975223002902, 'watched': 0.19159289432123072, 'bad': 0.17960761337541375, 'thriller': 0.17176916763103084} \n",
      "Label: negative \n",
      "\n",
      "Text:\n",
      " i havent always been a fan but the show grew on me it wasnt until after season 5 that i started to see the richness of the show they finally brought daniel jacksons search for his wife to an end and f... \n",
      "Words:\n",
      " {'character': 0.42581458279247764, 'season': 0.21902804815249605, 'job': 0.2083297037963592, 'talk': 0.18967121272654358, 'finally': 0.1683440060955015, 'end': 0.15666134219312586} \n",
      "Label: positive \n",
      "\n"
     ]
    }
   ],
   "source": [
    "for i in range(5):\n",
    "    print(\"Text:\\n\", df['review'].iloc[i][:200]+'...',\n",
    "          '\\nWords:\\n', common_word_in_rows[i], '\\nLabel:',\n",
    "          df['sentiment'].iloc[i], '\\n')"
   ]
  },
  {
   "cell_type": "code",
   "execution_count": 27,
   "id": "6b38ff8c",
   "metadata": {
    "execution": {
     "iopub.execute_input": "2023-01-21T15:10:42.956588Z",
     "iopub.status.busy": "2023-01-21T15:10:42.956183Z",
     "iopub.status.idle": "2023-01-21T15:10:43.825789Z",
     "shell.execute_reply": "2023-01-21T15:10:43.824541Z"
    },
    "papermill": {
     "duration": 0.890892,
     "end_time": "2023-01-21T15:10:43.828476",
     "exception": false,
     "start_time": "2023-01-21T15:10:42.937584",
     "status": "completed"
    },
    "tags": []
   },
   "outputs": [
    {
     "data": {
      "text/html": [
       "<style type='text/css'>\n",
       ".datatable table.frame { margin-bottom: 0; }\n",
       ".datatable table.frame thead { border-bottom: none; }\n",
       ".datatable table.frame tr.coltypes td {  color: #FFFFFF;  line-height: 6px;  padding: 0 0.5em;}\n",
       ".datatable .bool    { background: #DDDD99; }\n",
       ".datatable .object  { background: #565656; }\n",
       ".datatable .int     { background: #5D9E5D; }\n",
       ".datatable .float   { background: #4040CC; }\n",
       ".datatable .str     { background: #CC4040; }\n",
       ".datatable .time    { background: #40CC40; }\n",
       ".datatable .row_index {  background: var(--jp-border-color3);  border-right: 1px solid var(--jp-border-color0);  color: var(--jp-ui-font-color3);  font-size: 9px;}\n",
       ".datatable .frame tbody td { text-align: left; }\n",
       ".datatable .frame tr.coltypes .row_index {  background: var(--jp-border-color0);}\n",
       ".datatable th:nth-child(2) { padding-left: 12px; }\n",
       ".datatable .hellipsis {  color: var(--jp-cell-editor-border-color);}\n",
       ".datatable .vellipsis {  background: var(--jp-layout-color0);  color: var(--jp-cell-editor-border-color);}\n",
       ".datatable .na {  color: var(--jp-cell-editor-border-color);  font-size: 80%;}\n",
       ".datatable .sp {  opacity: 0.25;}\n",
       ".datatable .footer { font-size: 9px; }\n",
       ".datatable .frame_dimensions {  background: var(--jp-border-color3);  border-top: 1px solid var(--jp-border-color0);  color: var(--jp-ui-font-color3);  display: inline-block;  opacity: 0.6;  padding: 1px 10px 1px 5px;}\n",
       "</style>\n"
      ],
      "text/plain": [
       "<IPython.core.display.HTML object>"
      ]
     },
     "metadata": {},
     "output_type": "display_data"
    }
   ],
   "source": [
    "from sklearn.model_selection import train_test_split\n",
    "from sklearn.metrics import accuracy_score, classification_report\n",
    "from lightgbm import LGBMClassifier\n",
    "\n",
    "def evaluate_vectorizer(vectorized):\n",
    "    X_train, X_test, y_train, y_test = train_test_split(vectorized, df['target'],\n",
    "                                                        test_size=0.2, random_state=42)\n",
    "\n",
    "    lgb_clf = LGBMClassifier()\n",
    "    lgb_clf.fit(X_train, y_train)\n",
    "\n",
    "    y_pred = lgb_clf.predict(X_test)\n",
    "    print(classification_report(y_test, y_pred))"
   ]
  },
  {
   "cell_type": "code",
   "execution_count": 28,
   "id": "6e61dae2",
   "metadata": {
    "execution": {
     "iopub.execute_input": "2023-01-21T15:10:43.862261Z",
     "iopub.status.busy": "2023-01-21T15:10:43.861153Z",
     "iopub.status.idle": "2023-01-21T15:10:44.615171Z",
     "shell.execute_reply": "2023-01-21T15:10:44.614298Z"
    },
    "papermill": {
     "duration": 0.772727,
     "end_time": "2023-01-21T15:10:44.617132",
     "exception": false,
     "start_time": "2023-01-21T15:10:43.844405",
     "status": "completed"
    },
    "tags": []
   },
   "outputs": [
    {
     "name": "stdout",
     "output_type": "stream",
     "text": [
      "              precision    recall  f1-score   support\n",
      "\n",
      "           0       0.83      0.82      0.83       967\n",
      "           1       0.84      0.84      0.84      1033\n",
      "\n",
      "    accuracy                           0.83      2000\n",
      "   macro avg       0.83      0.83      0.83      2000\n",
      "weighted avg       0.83      0.83      0.83      2000\n",
      "\n"
     ]
    }
   ],
   "source": [
    "evaluate_vectorizer(count_vectorized)"
   ]
  },
  {
   "cell_type": "code",
   "execution_count": 29,
   "id": "d3759dfb",
   "metadata": {
    "execution": {
     "iopub.execute_input": "2023-01-21T15:10:44.651684Z",
     "iopub.status.busy": "2023-01-21T15:10:44.651288Z",
     "iopub.status.idle": "2023-01-21T15:10:47.059497Z",
     "shell.execute_reply": "2023-01-21T15:10:47.057567Z"
    },
    "papermill": {
     "duration": 2.428879,
     "end_time": "2023-01-21T15:10:47.062191",
     "exception": false,
     "start_time": "2023-01-21T15:10:44.633312",
     "status": "completed"
    },
    "tags": []
   },
   "outputs": [
    {
     "name": "stdout",
     "output_type": "stream",
     "text": [
      "              precision    recall  f1-score   support\n",
      "\n",
      "           0       0.82      0.81      0.81       967\n",
      "           1       0.83      0.83      0.83      1033\n",
      "\n",
      "    accuracy                           0.82      2000\n",
      "   macro avg       0.82      0.82      0.82      2000\n",
      "weighted avg       0.82      0.82      0.82      2000\n",
      "\n"
     ]
    }
   ],
   "source": [
    "evaluate_vectorizer(tfidf_vectorized)"
   ]
  },
  {
   "cell_type": "code",
   "execution_count": 30,
   "id": "03664995",
   "metadata": {
    "execution": {
     "iopub.execute_input": "2023-01-21T15:10:47.096266Z",
     "iopub.status.busy": "2023-01-21T15:10:47.095846Z",
     "iopub.status.idle": "2023-01-21T15:10:47.166843Z",
     "shell.execute_reply": "2023-01-21T15:10:47.165181Z"
    },
    "papermill": {
     "duration": 0.090428,
     "end_time": "2023-01-21T15:10:47.169325",
     "exception": false,
     "start_time": "2023-01-21T15:10:47.078897",
     "status": "completed"
    },
    "tags": []
   },
   "outputs": [],
   "source": [
    "from sklearn.neighbors import NearestNeighbors\n",
    "\n",
    "def nearest_review(vectorized, idx):\n",
    "    nn = NearestNeighbors(n_neighbors=20)\n",
    "    nn.fit(vectorized.to_numpy())\n",
    "    near_idx = nn.kneighbors([vectorized.iloc[idx]])[1][0]\n",
    "    for i in near_idx[:5]:\n",
    "        if i == idx:\n",
    "            print(f\"Ref review: \\n{df['review'].iloc[i][:200]}...\")\n",
    "            print(\"Ref Label:\", df['sentiment'].iloc[i])\n",
    "        else:\n",
    "            print('='*50)\n",
    "            print(f\"Review: \\n{df['review'].iloc[i][:200]}...\")\n",
    "            print(\"Label:\", df['sentiment'].iloc[i])\n",
    "    return near_idx\n",
    "    "
   ]
  },
  {
   "cell_type": "code",
   "execution_count": 31,
   "id": "9b942131",
   "metadata": {
    "execution": {
     "iopub.execute_input": "2023-01-21T15:10:47.203465Z",
     "iopub.status.busy": "2023-01-21T15:10:47.203041Z",
     "iopub.status.idle": "2023-01-21T15:10:47.240286Z",
     "shell.execute_reply": "2023-01-21T15:10:47.238720Z"
    },
    "papermill": {
     "duration": 0.057877,
     "end_time": "2023-01-21T15:10:47.243262",
     "exception": false,
     "start_time": "2023-01-21T15:10:47.185385",
     "status": "completed"
    },
    "tags": []
   },
   "outputs": [
    {
     "name": "stdout",
     "output_type": "stream",
     "text": [
      "Ref review: \n",
      "guest from the future tells a fascinating story of time travel friendship battle of good and evil all with a small budget child actors and few special effects something for spielberg and lucas to lear...\n",
      "Ref Label: positive\n",
      "==================================================\n",
      "Review: \n",
      "psycho criminal pure by carl schenkel who is active in hollywood like mrs soutendijk goetz george and hannes jaenicke are stealing the spectators last peace of snugness they are too able how can i get...\n",
      "Label: positive\n",
      "==================================================\n",
      "Review: \n",
      "this movie sucks ridiculous school athmosphere unbelievable students that are very bad and behave like criminals but then later after the good teacher nick nolte taught them they became as good and as...\n",
      "Label: negative\n",
      "==================================================\n",
      "Review: \n",
      "we know from other movies that the actors are good but they cannot save the movie a waste of time the premise was not too bad but one workable idea interaction between real bussinessmen and russian ma...\n",
      "Label: negative\n",
      "==================================================\n",
      "Review: \n",
      "one of the flatout drollest movies of alltime sim and rutherford are at their best matching wits over the predicament of an allboys and allgirls school sharing the same quarters slapstick has never be...\n",
      "Label: positive\n"
     ]
    }
   ],
   "source": [
    "count_vectorized_near = nearest_review(count_vectorized, 1)"
   ]
  },
  {
   "cell_type": "code",
   "execution_count": 32,
   "id": "4282eed9",
   "metadata": {
    "execution": {
     "iopub.execute_input": "2023-01-21T15:10:47.292486Z",
     "iopub.status.busy": "2023-01-21T15:10:47.292032Z",
     "iopub.status.idle": "2023-01-21T15:10:47.321135Z",
     "shell.execute_reply": "2023-01-21T15:10:47.319666Z"
    },
    "papermill": {
     "duration": 0.057152,
     "end_time": "2023-01-21T15:10:47.323835",
     "exception": false,
     "start_time": "2023-01-21T15:10:47.266683",
     "status": "completed"
    },
    "tags": []
   },
   "outputs": [
    {
     "name": "stdout",
     "output_type": "stream",
     "text": [
      "Ref review: \n",
      "guest from the future tells a fascinating story of time travel friendship battle of good and evil all with a small budget child actors and few special effects something for spielberg and lucas to lear...\n",
      "Ref Label: positive\n",
      "==================================================\n",
      "Review: \n",
      "yet another colourful excuse for men in rubber suits to wrestle with each other this time around time travellers from the future arrive in 1992 and recruit a few people to go back with them to 1944 an...\n",
      "Label: negative\n",
      "==================================================\n",
      "Review: \n",
      "spoilersi love the simpsons and i have seen every single episode that had ever come out i must admit season one is by far the most underrated season and this is the most underrated episode in season o...\n",
      "Label: positive\n",
      "==================================================\n",
      "Review: \n",
      "before the internet this movie could never have been made but the idea that the web is full of evil is the idea behind itunfortunately thats all it wasthe generally opinion that nowadays the web in th...\n",
      "Label: negative\n",
      "==================================================\n",
      "Review: \n",
      "im serious as well i mean dont get me wrong if you havent got a bent for this type of z grade creaky creature feature why would you be watching is my first thought then its a rating of about 3 to 4 ou...\n",
      "Label: positive\n"
     ]
    }
   ],
   "source": [
    "tfidf_vectorized_near = nearest_review(tfidf_vectorized, 1)"
   ]
  },
  {
   "cell_type": "markdown",
   "id": "21a8c257",
   "metadata": {
    "papermill": {
     "duration": 0.022191,
     "end_time": "2023-01-21T15:10:47.368968",
     "exception": false,
     "start_time": "2023-01-21T15:10:47.346777",
     "status": "completed"
    },
    "tags": []
   },
   "source": [
    "## b. Distributed Representation\n",
    "\n",
    "### i. Word2Vec\n",
    "\n",
    "This section need to research ......"
   ]
  },
  {
   "cell_type": "code",
   "execution_count": 33,
   "id": "91d24f43",
   "metadata": {
    "execution": {
     "iopub.execute_input": "2023-01-21T15:10:47.415988Z",
     "iopub.status.busy": "2023-01-21T15:10:47.415576Z",
     "iopub.status.idle": "2023-01-21T15:10:48.429302Z",
     "shell.execute_reply": "2023-01-21T15:10:48.428414Z"
    },
    "papermill": {
     "duration": 1.039965,
     "end_time": "2023-01-21T15:10:48.431496",
     "exception": false,
     "start_time": "2023-01-21T15:10:47.391531",
     "status": "completed"
    },
    "tags": []
   },
   "outputs": [],
   "source": [
    "from gensim.models import Word2Vec\n",
    "\n",
    "w2v = Word2Vec(vector_size=100,\n",
    "              window=5,\n",
    "              negative=10,\n",
    "              sg=1)\n",
    "\n",
    "w2v.build_vocab(df['token_wo_stop'])"
   ]
  },
  {
   "cell_type": "code",
   "execution_count": 34,
   "id": "149656c2",
   "metadata": {
    "execution": {
     "iopub.execute_input": "2023-01-21T15:10:48.465071Z",
     "iopub.status.busy": "2023-01-21T15:10:48.464562Z",
     "iopub.status.idle": "2023-01-21T15:10:48.481234Z",
     "shell.execute_reply": "2023-01-21T15:10:48.480518Z"
    },
    "papermill": {
     "duration": 0.035915,
     "end_time": "2023-01-21T15:10:48.483487",
     "exception": false,
     "start_time": "2023-01-21T15:10:48.447572",
     "status": "completed"
    },
    "tags": []
   },
   "outputs": [],
   "source": [
    "w2v.wv.save(\"trained_from_imdb_review\")"
   ]
  },
  {
   "cell_type": "code",
   "execution_count": 35,
   "id": "a89ed65d",
   "metadata": {
    "execution": {
     "iopub.execute_input": "2023-01-21T15:10:48.517105Z",
     "iopub.status.busy": "2023-01-21T15:10:48.516746Z",
     "iopub.status.idle": "2023-01-21T15:10:48.526293Z",
     "shell.execute_reply": "2023-01-21T15:10:48.525568Z"
    },
    "papermill": {
     "duration": 0.028655,
     "end_time": "2023-01-21T15:10:48.528406",
     "exception": false,
     "start_time": "2023-01-21T15:10:48.499751",
     "status": "completed"
    },
    "tags": []
   },
   "outputs": [
    {
     "data": {
      "text/plain": [
       "[('midwestern', 0.38072943687438965),\n",
       " ('disliked', 0.37755849957466125),\n",
       " ('alexs', 0.36581963300704956),\n",
       " ('optimism', 0.33141985535621643),\n",
       " ('unjustly', 0.3303433656692505),\n",
       " ('hope', 0.3286932408809662),\n",
       " ('ah', 0.3263862729072571),\n",
       " ('condemned', 0.3253701329231262),\n",
       " ('screenwriters', 0.31739893555641174),\n",
       " ('operate', 0.30411508679389954)]"
      ]
     },
     "execution_count": 35,
     "metadata": {},
     "output_type": "execute_result"
    }
   ],
   "source": [
    "w2v.wv.most_similar(positive=['good'])"
   ]
  },
  {
   "cell_type": "code",
   "execution_count": 36,
   "id": "6a1a19c9",
   "metadata": {
    "execution": {
     "iopub.execute_input": "2023-01-21T15:10:48.572744Z",
     "iopub.status.busy": "2023-01-21T15:10:48.572402Z",
     "iopub.status.idle": "2023-01-21T15:10:48.579168Z",
     "shell.execute_reply": "2023-01-21T15:10:48.578446Z"
    },
    "papermill": {
     "duration": 0.033395,
     "end_time": "2023-01-21T15:10:48.583450",
     "exception": false,
     "start_time": "2023-01-21T15:10:48.550055",
     "status": "completed"
    },
    "tags": []
   },
   "outputs": [
    {
     "data": {
      "text/plain": [
       "[('exams', 0.35456332564353943),\n",
       " ('diabolical', 0.3458971381187439),\n",
       " ('sliding', 0.342060387134552),\n",
       " ('joyous', 0.34137585759162903),\n",
       " ('anybody', 0.328825980424881),\n",
       " ('timing', 0.3215138912200928),\n",
       " ('rathbone', 0.3195878863334656),\n",
       " ('bowl', 0.31933265924453735),\n",
       " ('size', 0.3176019489765167),\n",
       " ('jagger', 0.3170281946659088)]"
      ]
     },
     "execution_count": 36,
     "metadata": {},
     "output_type": "execute_result"
    }
   ],
   "source": [
    "w2v.wv.most_similar(positive=['bad'])"
   ]
  },
  {
   "cell_type": "markdown",
   "id": "7182387a",
   "metadata": {
    "papermill": {
     "duration": 0.022694,
     "end_time": "2023-01-21T15:10:48.627357",
     "exception": false,
     "start_time": "2023-01-21T15:10:48.604663",
     "status": "completed"
    },
    "tags": []
   },
   "source": [
    "# 3. Keras Embedding Layer\n",
    "\n",
    "* **Tokenizer**: This class allows to vectorize a text corpus, by turning each text into either a sequence of integers (each integer being the index of a token in a dictionary) or into a vector where the coefficient for each token could be binary, based on word count, based on tf-idf...\n",
    "\n",
    "* my explanation: By default this class allocate an integer to each word and save the word and it's index in a dictionary like below:\n",
    "\n",
    "{'the': 1,\n",
    " 'a': 2,\n",
    " 'and': 3,\n",
    " 'of': 4,\n",
    " 'to': 5,\n",
    " 'is': 6,\n",
    " 'in': 7,\n",
    " 'it': 8,\n",
    " 'this': 9,\n",
    " 'i': 10,\n",
    " 'that': 11,\n",
    " 'was': 12,\n",
    " 'as': 13,\n",
    " 'for': 14,\n",
    " 'door': 15}\n",
    "\n",
    "\n",
    "* By using sequences_to_matrix method you can convert text to **binary,word count and tf-idf**.\n",
    "\n",
    "    sequences_to_matrix(\n",
    "        sequences, mode='binary'\n",
    "    )\n",
    "    mode ----> one of \"binary\", \"count\", \"tfidf\", \"freq\"\n",
    "    \n",
    "* **texts_to_sequences**: Transforms each text in texts to a sequence of integers. for examole a text like 'this is a door' covert to 9 6 2 15"
   ]
  },
  {
   "cell_type": "code",
   "execution_count": 37,
   "id": "3cc6dd53",
   "metadata": {
    "execution": {
     "iopub.execute_input": "2023-01-21T15:10:48.674092Z",
     "iopub.status.busy": "2023-01-21T15:10:48.673225Z",
     "iopub.status.idle": "2023-01-21T15:10:54.548411Z",
     "shell.execute_reply": "2023-01-21T15:10:54.547421Z"
    },
    "papermill": {
     "duration": 5.901063,
     "end_time": "2023-01-21T15:10:54.550890",
     "exception": false,
     "start_time": "2023-01-21T15:10:48.649827",
     "status": "completed"
    },
    "tags": []
   },
   "outputs": [],
   "source": [
    "import tensorflow as tf\n",
    "from tensorflow.keras.preprocessing.text import Tokenizer\n",
    "from tensorflow.keras.preprocessing.sequence import pad_sequences"
   ]
  },
  {
   "cell_type": "code",
   "execution_count": 38,
   "id": "5aa7261a",
   "metadata": {
    "execution": {
     "iopub.execute_input": "2023-01-21T15:10:54.587534Z",
     "iopub.status.busy": "2023-01-21T15:10:54.586436Z",
     "iopub.status.idle": "2023-01-21T15:10:54.594587Z",
     "shell.execute_reply": "2023-01-21T15:10:54.593866Z"
    },
    "papermill": {
     "duration": 0.029168,
     "end_time": "2023-01-21T15:10:54.596777",
     "exception": false,
     "start_time": "2023-01-21T15:10:54.567609",
     "status": "completed"
    },
    "tags": []
   },
   "outputs": [],
   "source": [
    "X_train, X_test, y_train, y_test = train_test_split(df['review'], df['target'],\n",
    "                                                    test_size=0.2, random_state=42)"
   ]
  },
  {
   "cell_type": "code",
   "execution_count": 39,
   "id": "5005a449",
   "metadata": {
    "execution": {
     "iopub.execute_input": "2023-01-21T15:10:54.633697Z",
     "iopub.status.busy": "2023-01-21T15:10:54.633139Z",
     "iopub.status.idle": "2023-01-21T15:10:57.243456Z",
     "shell.execute_reply": "2023-01-21T15:10:57.242509Z"
    },
    "papermill": {
     "duration": 2.631798,
     "end_time": "2023-01-21T15:10:57.245754",
     "exception": false,
     "start_time": "2023-01-21T15:10:54.613956",
     "status": "completed"
    },
    "tags": []
   },
   "outputs": [],
   "source": [
    "num_words =3000\n",
    "tokenizer = Tokenizer(num_words)\n",
    "tokenizer.fit_on_texts(X_train)\n",
    "vocab_size = len(tokenizer.word_index) + 1    #  tokenizer.word_index return {'the': 1,'a': 2,'and': 3,'of': 4,'to': 5,....}\n",
    "\n",
    "X_train_tk = tokenizer.texts_to_sequences(X_train)\n",
    "X_test_tk = tokenizer.texts_to_sequences(X_test)"
   ]
  },
  {
   "cell_type": "code",
   "execution_count": 40,
   "id": "691bfd88",
   "metadata": {
    "execution": {
     "iopub.execute_input": "2023-01-21T15:10:57.280563Z",
     "iopub.status.busy": "2023-01-21T15:10:57.280208Z",
     "iopub.status.idle": "2023-01-21T15:10:57.530518Z",
     "shell.execute_reply": "2023-01-21T15:10:57.529641Z"
    },
    "papermill": {
     "duration": 0.270338,
     "end_time": "2023-01-21T15:10:57.532756",
     "exception": false,
     "start_time": "2023-01-21T15:10:57.262418",
     "status": "completed"
    },
    "tags": []
   },
   "outputs": [
    {
     "data": {
      "image/png": "[encoded data removed]",
      "text/plain": [
       "<Figure size 576x360 with 1 Axes>"
      ]
     },
     "metadata": {
      "needs_background": "light"
     },
     "output_type": "display_data"
    }
   ],
   "source": [
    "length_list = list(map(len, X_train_tk))\n",
    "\n",
    "plt.figure(figsize=(8, 5))\n",
    "plt.hist(length_list, bins=50)\n",
    "plt.axvline(np.mean(length_list), linewidth=3, c='k')\n",
    "plt.text(x=np.mean(length_list)+50, y=1600, s=int(np.mean(length_list)))\n",
    "plt.title(\"Sequence Length Distribution\")\n",
    "plt.show()"
   ]
  },
  {
   "cell_type": "markdown",
   "id": "4d352c93",
   "metadata": {
    "papermill": {
     "duration": 0.016807,
     "end_time": "2023-01-21T15:10:57.566424",
     "exception": false,
     "start_time": "2023-01-21T15:10:57.549617",
     "status": "completed"
    },
    "tags": []
   },
   "source": [
    "Because length of each text in column of review is different we use pad_sequences to equalize length of text in each cell across coluns"
   ]
  },
  {
   "cell_type": "code",
   "execution_count": 41,
   "id": "9ce62257",
   "metadata": {
    "execution": {
     "iopub.execute_input": "2023-01-21T15:10:57.602529Z",
     "iopub.status.busy": "2023-01-21T15:10:57.602061Z",
     "iopub.status.idle": "2023-01-21T15:10:57.701239Z",
     "shell.execute_reply": "2023-01-21T15:10:57.699735Z"
    },
    "papermill": {
     "duration": 0.120481,
     "end_time": "2023-01-21T15:10:57.703927",
     "exception": false,
     "start_time": "2023-01-21T15:10:57.583446",
     "status": "completed"
    },
    "tags": []
   },
   "outputs": [],
   "source": [
    "maxlen = 300\n",
    "\n",
    "X_train_pad = pad_sequences(X_train_tk, maxlen=maxlen)\n",
    "X_test_pad = pad_sequences(X_test_tk, maxlen=maxlen)"
   ]
  },
  {
   "cell_type": "code",
   "execution_count": 42,
   "id": "a84c09e2",
   "metadata": {
    "execution": {
     "iopub.execute_input": "2023-01-21T15:10:57.740304Z",
     "iopub.status.busy": "2023-01-21T15:10:57.739880Z",
     "iopub.status.idle": "2023-01-21T15:10:57.747169Z",
     "shell.execute_reply": "2023-01-21T15:10:57.745882Z"
    },
    "papermill": {
     "duration": 0.028112,
     "end_time": "2023-01-21T15:10:57.749309",
     "exception": false,
     "start_time": "2023-01-21T15:10:57.721197",
     "status": "completed"
    },
    "tags": []
   },
   "outputs": [
    {
     "data": {
      "text/plain": [
       "((8000, 300), (2000, 300))"
      ]
     },
     "execution_count": 42,
     "metadata": {},
     "output_type": "execute_result"
    }
   ],
   "source": [
    "X_train_pad.shape, X_test_pad.shape"
   ]
  },
  {
   "cell_type": "code",
   "execution_count": 43,
   "id": "e1a4c125",
   "metadata": {
    "execution": {
     "iopub.execute_input": "2023-01-21T15:10:57.785936Z",
     "iopub.status.busy": "2023-01-21T15:10:57.785572Z",
     "iopub.status.idle": "2023-01-21T15:10:57.792120Z",
     "shell.execute_reply": "2023-01-21T15:10:57.791264Z"
    },
    "papermill": {
     "duration": 0.026522,
     "end_time": "2023-01-21T15:10:57.793910",
     "exception": false,
     "start_time": "2023-01-21T15:10:57.767388",
     "status": "completed"
    },
    "tags": []
   },
   "outputs": [],
   "source": [
    "def model():\n",
    "    inputs_ = tf.keras.Input(shape=maxlen)\n",
    "    embedding = tf.keras.layers.Embedding(input_dim=num_words, output_dim=128, input_length=maxlen)(inputs_)\n",
    "    average_pool = tf.keras.layers.GlobalAveragePooling1D()(embedding)\n",
    "    outputs_ = tf.keras.layers.Dense(1, activation='sigmoid')(average_pool)\n",
    "    model = tf.keras.Model(inputs=[inputs_], outputs=[outputs_])\n",
    "    model.compile(loss='binary_crossentropy',\n",
    "                 optimizer='adam',\n",
    "                 metrics='accuracy')\n",
    "    return model"
   ]
  },
  {
   "cell_type": "markdown",
   "id": "6a67df82",
   "metadata": {
    "papermill": {
     "duration": 0.016283,
     "end_time": "2023-01-21T15:10:57.826958",
     "exception": false,
     "start_time": "2023-01-21T15:10:57.810675",
     "status": "completed"
    },
    "tags": []
   },
   "source": [
    "### Embedding layer\n",
    "There are three parameters to the embedding layer\n",
    "\n",
    "* **input_dim** : Size of the vocabulary\n",
    "* **output_dim** : Length of the vector for each word\n",
    "* **input_length** : Maximum length of a sequence\n",
    "\n",
    "In the above example, we are setting 3000 as the vocabulary size, as we will be encoding numbers 0 to 2999. We want the length of the word vector to be 128, hence output_dim is set to 128. The length of the input sequence to embedding layer will be 300.\n",
    "\n",
    "Each word  is represented by a vector of length 128. These vector (weights) are basically the vector representations of the words in vocabulary. embedding layer works like a lookup table. The words are the keys in this table, while the dense word vectors are the values. In this example the lookup table has size of 3000 x 128, for words 0 to 2999. The first word (0) is represented by first row in this table.\n",
    "\n",
    "Once the training is completed, embedding layer has learnt the weights which are nothing but the vector representations of each word.\n",
    "\n",
    "As model.summary() show, each sentense has output shape of (300,128)\n",
    "\n",
    "**Why we using Embedding layer?**\n",
    "\n",
    "Embeddings are a great way to deal with NLP problems because of two reasons. First it helps in dimensionality reduction over one-hot encoding as we can control the number of features. Second it is capable of understanding the context of a word so that similar words have similar embeddings. This is a great article explaining the working of word embeddings in detail."
   ]
  },
  {
   "cell_type": "code",
   "execution_count": 44,
   "id": "a26a7335",
   "metadata": {
    "execution": {
     "iopub.execute_input": "2023-01-21T15:10:57.862553Z",
     "iopub.status.busy": "2023-01-21T15:10:57.862179Z",
     "iopub.status.idle": "2023-01-21T15:10:57.991900Z",
     "shell.execute_reply": "2023-01-21T15:10:57.990963Z"
    },
    "papermill": {
     "duration": 0.151028,
     "end_time": "2023-01-21T15:10:57.995041",
     "exception": false,
     "start_time": "2023-01-21T15:10:57.844013",
     "status": "completed"
    },
    "tags": []
   },
   "outputs": [
    {
     "name": "stdout",
     "output_type": "stream",
     "text": [
      "Model: \"model\"\n",
      "_________________________________________________________________\n",
      "Layer (type)                 Output Shape              Param #   \n",
      "=================================================================\n",
      "input_1 (InputLayer)         [(None, 300)]             0         \n",
      "_________________________________________________________________\n",
      "embedding (Embedding)        (None, 300, 128)          384000    \n",
      "_________________________________________________________________\n",
      "global_average_pooling1d (Gl (None, 128)               0         \n",
      "_________________________________________________________________\n",
      "dense (Dense)                (None, 1)                 129       \n",
      "=================================================================\n",
      "Total params: 384,129\n",
      "Trainable params: 384,129\n",
      "Non-trainable params: 0\n",
      "_________________________________________________________________\n"
     ]
    },
    {
     "name": "stderr",
     "output_type": "stream",
     "text": [
      "2023-01-21 15:10:57.913205: I tensorflow/core/common_runtime/process_util.cc:146] Creating new thread pool with default inter op setting: 2. Tune using inter_op_parallelism_threads for best performance.\n"
     ]
    }
   ],
   "source": [
    "tf.keras.backend.clear_session()\n",
    "model = model()\n",
    "model.summary()"
   ]
  },
  {
   "cell_type": "code",
   "execution_count": 45,
   "id": "1a4fe45b",
   "metadata": {
    "execution": {
     "iopub.execute_input": "2023-01-21T15:10:58.033354Z",
     "iopub.status.busy": "2023-01-21T15:10:58.032328Z",
     "iopub.status.idle": "2023-01-21T15:11:05.338868Z",
     "shell.execute_reply": "2023-01-21T15:11:05.337629Z"
    },
    "papermill": {
     "duration": 7.327506,
     "end_time": "2023-01-21T15:11:05.340772",
     "exception": false,
     "start_time": "2023-01-21T15:10:58.013266",
     "status": "completed"
    },
    "tags": []
   },
   "outputs": [
    {
     "name": "stderr",
     "output_type": "stream",
     "text": [
      "2023-01-21 15:10:58.114854: I tensorflow/compiler/mlir/mlir_graph_optimization_pass.cc:185] None of the MLIR Optimization Passes are enabled (registered 2)\n"
     ]
    },
    {
     "name": "stdout",
     "output_type": "stream",
     "text": [
      "Epoch 1/10\n",
      "50/50 [==============================] - 1s 17ms/step - loss: 0.6887 - accuracy: 0.5817 - val_loss: 0.6869 - val_accuracy: 0.5456\n",
      "Epoch 2/10\n",
      "50/50 [==============================] - 1s 12ms/step - loss: 0.6741 - accuracy: 0.6372 - val_loss: 0.6679 - val_accuracy: 0.6881\n",
      "Epoch 3/10\n",
      "50/50 [==============================] - 1s 12ms/step - loss: 0.6486 - accuracy: 0.7381 - val_loss: 0.6379 - val_accuracy: 0.7619\n",
      "Epoch 4/10\n",
      "50/50 [==============================] - 1s 13ms/step - loss: 0.6126 - accuracy: 0.7644 - val_loss: 0.6028 - val_accuracy: 0.7694\n",
      "Epoch 5/10\n",
      "50/50 [==============================] - 1s 13ms/step - loss: 0.5713 - accuracy: 0.8014 - val_loss: 0.5679 - val_accuracy: 0.7575\n",
      "Epoch 6/10\n",
      "50/50 [==============================] - 1s 12ms/step - loss: 0.5305 - accuracy: 0.8202 - val_loss: 0.5288 - val_accuracy: 0.8056\n",
      "Epoch 7/10\n",
      "50/50 [==============================] - 1s 13ms/step - loss: 0.4935 - accuracy: 0.8328 - val_loss: 0.4998 - val_accuracy: 0.8106\n",
      "Epoch 8/10\n",
      "50/50 [==============================] - 1s 13ms/step - loss: 0.4596 - accuracy: 0.8478 - val_loss: 0.4715 - val_accuracy: 0.8313\n",
      "Epoch 9/10\n",
      "50/50 [==============================] - 1s 12ms/step - loss: 0.4296 - accuracy: 0.8570 - val_loss: 0.4480 - val_accuracy: 0.8419\n",
      "Epoch 10/10\n",
      "50/50 [==============================] - 1s 13ms/step - loss: 0.4042 - accuracy: 0.8669 - val_loss: 0.4316 - val_accuracy: 0.8394\n"
     ]
    },
    {
     "data": {
      "text/plain": [
       "<keras.callbacks.History at 0x7f956ec4f590>"
      ]
     },
     "execution_count": 45,
     "metadata": {},
     "output_type": "execute_result"
    }
   ],
   "source": [
    "# ModelCheckpoint callback is used in conjunction with training using model.fit() to save a model or weights\n",
    "# (in a checkpoint file) at some interval, so the model or weights can be loaded later to continue the training\n",
    "# from the state saved\n",
    "\n",
    "checkpoint_cb = tf.keras.callbacks.ModelCheckpoint('review_classify.hdf5',\n",
    "                                                   monitor='val_accuracy',\n",
    "                                                   mode='max',\n",
    "                                                   save_best_only=True,\n",
    "                                                   save_weights_only=True)\n",
    "\n",
    "# If we want to load model later we should set save_weights_only=False in \n",
    "# tf.keras.callbacks.ModelCheckpoint and use below command.\n",
    "# new_model = tf.keras.models.load_model(\"/kaggle/working/review_classify.hdf5\")\n",
    "\n",
    "\n",
    "# EarlyStopping: Stop training when a monitored metric has stopped improving.\n",
    "# patience: Number of epochs with no improvement after which training will be stopped.\n",
    "earlystopping_cb = tf.keras.callbacks.EarlyStopping(monitor='val_accuracy',\n",
    "                                                    mode='max',\n",
    "                                                    patience=5)             \n",
    "\n",
    "\n",
    "model.fit(X_train_pad, y_train,\n",
    "         batch_size=128,\n",
    "         epochs=10,\n",
    "         validation_split=0.2,\n",
    "         callbacks=[checkpoint_cb, earlystopping_cb])"
   ]
  },
  {
   "cell_type": "code",
   "execution_count": null,
   "id": "8aa0b604",
   "metadata": {
    "execution": {
     "iopub.execute_input": "2022-12-15T14:36:32.270988Z",
     "iopub.status.busy": "2022-12-15T14:36:32.270559Z",
     "iopub.status.idle": "2022-12-15T14:36:32.347804Z",
     "shell.execute_reply": "2022-12-15T14:36:32.346600Z",
     "shell.execute_reply.started": "2022-12-15T14:36:32.270950Z"
    },
    "papermill": {
     "duration": 0.023134,
     "end_time": "2023-01-21T15:11:05.387071",
     "exception": false,
     "start_time": "2023-01-21T15:11:05.363937",
     "status": "completed"
    },
    "tags": []
   },
   "outputs": [],
   "source": []
  },
  {
   "cell_type": "code",
   "execution_count": null,
   "id": "efa13f57",
   "metadata": {
    "papermill": {
     "duration": 0.022783,
     "end_time": "2023-01-21T15:11:05.432692",
     "exception": false,
     "start_time": "2023-01-21T15:11:05.409909",
     "status": "completed"
    },
    "tags": []
   },
   "outputs": [],
   "source": []
  }
 ],
 "metadata": {
  "kernelspec": {
   "display_name": "Python 3",
   "language": "python",
   "name": "python3"
  },
  "language_info": {
   "codemirror_mode": {
    "name": "ipython",
    "version": 3
   },
   "file_extension": ".py",
   "mimetype": "text/x-python",
   "name": "python",
   "nbconvert_exporter": "python",
   "pygments_lexer": "ipython3",
   "version": "3.7.12"
  },
  "papermill": {
   "default_parameters": {},
   "duration": 106.873257,
   "end_time": "2023-01-21T15:11:09.017917",
   "environment_variables": {},
   "exception": null,
   "input_path": "__notebook__.ipynb",
   "output_path": "__notebook__.ipynb",
   "parameters": {},
   "start_time": "2023-01-21T15:09:22.144660",
   "version": "2.3.4"
  },
  "widgets": {
   "application/vnd.jupyter.widget-state+json": {
    "state": {
     "03287775e6d14daa8ed0e231bf03f90a": {
      "model_module": "@jupyter-widgets/controls",
      "model_module_version": "1.5.0",
      "model_name": "DescriptionStyleModel",
      "state": {
       "_model_module": "@jupyter-widgets/controls",
       "_model_module_version": "1.5.0",
       "_model_name": "DescriptionStyleModel",
       "_view_count": null,
       "_view_module": "@jupyter-widgets/base",
       "_view_module_version": "1.2.0",
       "_view_name": "StyleView",
       "description_width": ""
      }
     },
     "06d5b9f6dd1b4321a102689dde422652": {
      "model_module": "@jupyter-widgets/controls",
      "model_module_version": "1.5.0",
      "model_name": "DescriptionStyleModel",
      "state": {
       "_model_module": "@jupyter-widgets/controls",
       "_model_module_version": "1.5.0",
       "_model_name": "DescriptionStyleModel",
       "_view_count": null,
       "_view_module": "@jupyter-widgets/base",
       "_view_module_version": "1.2.0",
       "_view_name": "StyleView",
       "description_width": ""
      }
     },
     "070cc281dedc463fad326064b3d59a89": {
      "model_module": "@jupyter-widgets/controls",
      "model_module_version": "1.5.0",
      "model_name": "HBoxModel",
      "state": {
       "_dom_classes": [],
       "_model_module": "@jupyter-widgets/controls",
       "_model_module_version": "1.5.0",
       "_model_name": "HBoxModel",
       "_view_count": null,
       "_view_module": "@jupyter-widgets/controls",
       "_view_module_version": "1.5.0",
       "_view_name": "HBoxView",
       "box_style": "",
       "children": [
        "IPY_MODEL_9226475636aa432bb24fcda76194597c",
        "IPY_MODEL_139297c72b094c7caa97a7472c801859",
        "IPY_MODEL_90f6be9c7d06423b9e44ccf32f01a056"
       ],
       "layout": "IPY_MODEL_bb1059bb98ea43fe8577f6ae098701fe"
      }
     },
     "0a678dfa0cb648a5b0659f378a46aaab": {
      "model_module": "@jupyter-widgets/base",
      "model_module_version": "1.2.0",
      "model_name": "LayoutModel",
      "state": {
       "_model_module": "@jupyter-widgets/base",
       "_model_module_version": "1.2.0",
       "_model_name": "LayoutModel",
       "_view_count": null,
       "_view_module": "@jupyter-widgets/base",
       "_view_module_version": "1.2.0",
       "_view_name": "LayoutView",
       "align_content": null,
       "align_items": null,
       "align_self": null,
       "border": null,
       "bottom": null,
       "display": null,
       "flex": null,
       "flex_flow": null,
       "grid_area": null,
       "grid_auto_columns": null,
       "grid_auto_flow": null,
       "grid_auto_rows": null,
       "grid_column": null,
       "grid_gap": null,
       "grid_row": null,
       "grid_template_areas": null,
       "grid_template_columns": null,
       "grid_template_rows": null,
       "height": null,
       "justify_content": null,
       "justify_items": null,
       "left": null,
       "margin": null,
       "max_height": null,
       "max_width": null,
       "min_height": null,
       "min_width": null,
       "object_fit": null,
       "object_position": null,
       "order": null,
       "overflow": null,
       "overflow_x": null,
       "overflow_y": null,
       "padding": null,
       "right": null,
       "top": null,
       "visibility": null,
       "width": null
      }
     },
     "10ff7b21ee7d4e729fc9fe73b2a48d69": {
      "model_module": "@jupyter-widgets/controls",
      "model_module_version": "1.5.0",
      "model_name": "HTMLModel",
      "state": {
       "_dom_classes": [],
       "_model_module": "@jupyter-widgets/controls",
       "_model_module_version": "1.5.0",
       "_model_name": "HTMLModel",
       "_view_count": null,
       "_view_module": "@jupyter-widgets/controls",
       "_view_module_version": "1.5.0",
       "_view_name": "HTMLView",
       "description": "",
       "description_tooltip": null,
       "layout": "IPY_MODEL_7d5185178fa144c4858472518135a557",
       "placeholder": "​",
       "style": "IPY_MODEL_49fdfdc96ff74bf0ba561d14bf366b1c",
       "value": " 10000/10000 [00:54&lt;00:00, 182.12it/s]"
      }
     },
     "139297c72b094c7caa97a7472c801859": {
      "model_module": "@jupyter-widgets/controls",
      "model_module_version": "1.5.0",
      "model_name": "FloatProgressModel",
      "state": {
       "_dom_classes": [],
       "_model_module": "@jupyter-widgets/controls",
       "_model_module_version": "1.5.0",
       "_model_name": "FloatProgressModel",
       "_view_count": null,
       "_view_module": "@jupyter-widgets/controls",
       "_view_module_version": "1.5.0",
       "_view_name": "ProgressView",
       "bar_style": "success",
       "description": "",
       "description_tooltip": null,
       "layout": "IPY_MODEL_77a4015cc745477fb408153d3dd86c2b",
       "max": 10000.0,
       "min": 0.0,
       "orientation": "horizontal",
       "style": "IPY_MODEL_5b8a9a335e4a4550aaad11adc6d76f11",
       "value": 10000.0
      }
     },
     "2c047abeb25942068a02a05d2a7f23a9": {
      "model_module": "@jupyter-widgets/base",
      "model_module_version": "1.2.0",
      "model_name": "LayoutModel",
      "state": {
       "_model_module": "@jupyter-widgets/base",
       "_model_module_version": "1.2.0",
       "_model_name": "LayoutModel",
       "_view_count": null,
       "_view_module": "@jupyter-widgets/base",
       "_view_module_version": "1.2.0",
       "_view_name": "LayoutView",
       "align_content": null,
       "align_items": null,
       "align_self": null,
       "border": null,
       "bottom": null,
       "display": null,
       "flex": null,
       "flex_flow": null,
       "grid_area": null,
       "grid_auto_columns": null,
       "grid_auto_flow": null,
       "grid_auto_rows": null,
       "grid_column": null,
       "grid_gap": null,
       "grid_row": null,
       "grid_template_areas": null,
       "grid_template_columns": null,
       "grid_template_rows": null,
       "height": null,
       "justify_content": null,
       "justify_items": null,
       "left": null,
       "margin": null,
       "max_height": null,
       "max_width": null,
       "min_height": null,
       "min_width": null,
       "object_fit": null,
       "object_position": null,
       "order": null,
       "overflow": null,
       "overflow_x": null,
       "overflow_y": null,
       "padding": null,
       "right": null,
       "top": null,
       "visibility": null,
       "width": null
      }
     },
     "2d3da44253474700bcc98555d4aea346": {
      "model_module": "@jupyter-widgets/controls",
      "model_module_version": "1.5.0",
      "model_name": "HTMLModel",
      "state": {
       "_dom_classes": [],
       "_model_module": "@jupyter-widgets/controls",
       "_model_module_version": "1.5.0",
       "_model_name": "HTMLModel",
       "_view_count": null,
       "_view_module": "@jupyter-widgets/controls",
       "_view_module_version": "1.5.0",
       "_view_name": "HTMLView",
       "description": "",
       "description_tooltip": null,
       "layout": "IPY_MODEL_66f0c513fa524460b96ae12bb03597ae",
       "placeholder": "​",
       "style": "IPY_MODEL_03287775e6d14daa8ed0e231bf03f90a",
       "value": "100%"
      }
     },
     "406e55370e0e4a9c9a78f2918c20fec8": {
      "model_module": "@jupyter-widgets/base",
      "model_module_version": "1.2.0",
      "model_name": "LayoutModel",
      "state": {
       "_model_module": "@jupyter-widgets/base",
       "_model_module_version": "1.2.0",
       "_model_name": "LayoutModel",
       "_view_count": null,
       "_view_module": "@jupyter-widgets/base",
       "_view_module_version": "1.2.0",
       "_view_name": "LayoutView",
       "align_content": null,
       "align_items": null,
       "align_self": null,
       "border": null,
       "bottom": null,
       "display": null,
       "flex": null,
       "flex_flow": null,
       "grid_area": null,
       "grid_auto_columns": null,
       "grid_auto_flow": null,
       "grid_auto_rows": null,
       "grid_column": null,
       "grid_gap": null,
       "grid_row": null,
       "grid_template_areas": null,
       "grid_template_columns": null,
       "grid_template_rows": null,
       "height": null,
       "justify_content": null,
       "justify_items": null,
       "left": null,
       "margin": null,
       "max_height": null,
       "max_width": null,
       "min_height": null,
       "min_width": null,
       "object_fit": null,
       "object_position": null,
       "order": null,
       "overflow": null,
       "overflow_x": null,
       "overflow_y": null,
       "padding": null,
       "right": null,
       "top": null,
       "visibility": null,
       "width": null
      }
     },
     "49fdfdc96ff74bf0ba561d14bf366b1c": {
      "model_module": "@jupyter-widgets/controls",
      "model_module_version": "1.5.0",
      "model_name": "DescriptionStyleModel",
      "state": {
       "_model_module": "@jupyter-widgets/controls",
       "_model_module_version": "1.5.0",
       "_model_name": "DescriptionStyleModel",
       "_view_count": null,
       "_view_module": "@jupyter-widgets/base",
       "_view_module_version": "1.2.0",
       "_view_name": "StyleView",
       "description_width": ""
      }
     },
     "4d220173fc154dd39b4cd1927b3591bb": {
      "model_module": "@jupyter-widgets/controls",
      "model_module_version": "1.5.0",
      "model_name": "ProgressStyleModel",
      "state": {
       "_model_module": "@jupyter-widgets/controls",
       "_model_module_version": "1.5.0",
       "_model_name": "ProgressStyleModel",
       "_view_count": null,
       "_view_module": "@jupyter-widgets/base",
       "_view_module_version": "1.2.0",
       "_view_name": "StyleView",
       "bar_color": null,
       "description_width": ""
      }
     },
     "53ff605cccd841aeaa144d1c47361265": {
      "model_module": "@jupyter-widgets/controls",
      "model_module_version": "1.5.0",
      "model_name": "HTMLModel",
      "state": {
       "_dom_classes": [],
       "_model_module": "@jupyter-widgets/controls",
       "_model_module_version": "1.5.0",
       "_model_name": "HTMLModel",
       "_view_count": null,
       "_view_module": "@jupyter-widgets/controls",
       "_view_module_version": "1.5.0",
       "_view_name": "HTMLView",
       "description": "",
       "description_tooltip": null,
       "layout": "IPY_MODEL_0a678dfa0cb648a5b0659f378a46aaab",
       "placeholder": "​",
       "style": "IPY_MODEL_06d5b9f6dd1b4321a102689dde422652",
       "value": "100%"
      }
     },
     "585d56eee71f4e749daa2b482aa35d68": {
      "model_module": "@jupyter-widgets/base",
      "model_module_version": "1.2.0",
      "model_name": "LayoutModel",
      "state": {
       "_model_module": "@jupyter-widgets/base",
       "_model_module_version": "1.2.0",
       "_model_name": "LayoutModel",
       "_view_count": null,
       "_view_module": "@jupyter-widgets/base",
       "_view_module_version": "1.2.0",
       "_view_name": "LayoutView",
       "align_content": null,
       "align_items": null,
       "align_self": null,
       "border": null,
       "bottom": null,
       "display": null,
       "flex": null,
       "flex_flow": null,
       "grid_area": null,
       "grid_auto_columns": null,
       "grid_auto_flow": null,
       "grid_auto_rows": null,
       "grid_column": null,
       "grid_gap": null,
       "grid_row": null,
       "grid_template_areas": null,
       "grid_template_columns": null,
       "grid_template_rows": null,
       "height": null,
       "justify_content": null,
       "justify_items": null,
       "left": null,
       "margin": null,
       "max_height": null,
       "max_width": null,
       "min_height": null,
       "min_width": null,
       "object_fit": null,
       "object_position": null,
       "order": null,
       "overflow": null,
       "overflow_x": null,
       "overflow_y": null,
       "padding": null,
       "right": null,
       "top": null,
       "visibility": null,
       "width": null
      }
     },
     "5b8a9a335e4a4550aaad11adc6d76f11": {
      "model_module": "@jupyter-widgets/controls",
      "model_module_version": "1.5.0",
      "model_name": "ProgressStyleModel",
      "state": {
       "_model_module": "@jupyter-widgets/controls",
       "_model_module_version": "1.5.0",
       "_model_name": "ProgressStyleModel",
       "_view_count": null,
       "_view_module": "@jupyter-widgets/base",
       "_view_module_version": "1.2.0",
       "_view_name": "StyleView",
       "bar_color": null,
       "description_width": ""
      }
     },
     "6457236a6a0e4072a0a4015cb272523f": {
      "model_module": "@jupyter-widgets/controls",
      "model_module_version": "1.5.0",
      "model_name": "DescriptionStyleModel",
      "state": {
       "_model_module": "@jupyter-widgets/controls",
       "_model_module_version": "1.5.0",
       "_model_name": "DescriptionStyleModel",
       "_view_count": null,
       "_view_module": "@jupyter-widgets/base",
       "_view_module_version": "1.2.0",
       "_view_name": "StyleView",
       "description_width": ""
      }
     },
     "66f0c513fa524460b96ae12bb03597ae": {
      "model_module": "@jupyter-widgets/base",
      "model_module_version": "1.2.0",
      "model_name": "LayoutModel",
      "state": {
       "_model_module": "@jupyter-widgets/base",
       "_model_module_version": "1.2.0",
       "_model_name": "LayoutModel",
       "_view_count": null,
       "_view_module": "@jupyter-widgets/base",
       "_view_module_version": "1.2.0",
       "_view_name": "LayoutView",
       "align_content": null,
       "align_items": null,
       "align_self": null,
       "border": null,
       "bottom": null,
       "display": null,
       "flex": null,
       "flex_flow": null,
       "grid_area": null,
       "grid_auto_columns": null,
       "grid_auto_flow": null,
       "grid_auto_rows": null,
       "grid_column": null,
       "grid_gap": null,
       "grid_row": null,
       "grid_template_areas": null,
       "grid_template_columns": null,
       "grid_template_rows": null,
       "height": null,
       "justify_content": null,
       "justify_items": null,
       "left": null,
       "margin": null,
       "max_height": null,
       "max_width": null,
       "min_height": null,
       "min_width": null,
       "object_fit": null,
       "object_position": null,
       "order": null,
       "overflow": null,
       "overflow_x": null,
       "overflow_y": null,
       "padding": null,
       "right": null,
       "top": null,
       "visibility": null,
       "width": null
      }
     },
     "77a4015cc745477fb408153d3dd86c2b": {
      "model_module": "@jupyter-widgets/base",
      "model_module_version": "1.2.0",
      "model_name": "LayoutModel",
      "state": {
       "_model_module": "@jupyter-widgets/base",
       "_model_module_version": "1.2.0",
       "_model_name": "LayoutModel",
       "_view_count": null,
       "_view_module": "@jupyter-widgets/base",
       "_view_module_version": "1.2.0",
       "_view_name": "LayoutView",
       "align_content": null,
       "align_items": null,
       "align_self": null,
       "border": null,
       "bottom": null,
       "display": null,
       "flex": null,
       "flex_flow": null,
       "grid_area": null,
       "grid_auto_columns": null,
       "grid_auto_flow": null,
       "grid_auto_rows": null,
       "grid_column": null,
       "grid_gap": null,
       "grid_row": null,
       "grid_template_areas": null,
       "grid_template_columns": null,
       "grid_template_rows": null,
       "height": null,
       "justify_content": null,
       "justify_items": null,
       "left": null,
       "margin": null,
       "max_height": null,
       "max_width": null,
       "min_height": null,
       "min_width": null,
       "object_fit": null,
       "object_position": null,
       "order": null,
       "overflow": null,
       "overflow_x": null,
       "overflow_y": null,
       "padding": null,
       "right": null,
       "top": null,
       "visibility": null,
       "width": null
      }
     },
     "7d5185178fa144c4858472518135a557": {
      "model_module": "@jupyter-widgets/base",
      "model_module_version": "1.2.0",
      "model_name": "LayoutModel",
      "state": {
       "_model_module": "@jupyter-widgets/base",
       "_model_module_version": "1.2.0",
       "_model_name": "LayoutModel",
       "_view_count": null,
       "_view_module": "@jupyter-widgets/base",
       "_view_module_version": "1.2.0",
       "_view_name": "LayoutView",
       "align_content": null,
       "align_items": null,
       "align_self": null,
       "border": null,
       "bottom": null,
       "display": null,
       "flex": null,
       "flex_flow": null,
       "grid_area": null,
       "grid_auto_columns": null,
       "grid_auto_flow": null,
       "grid_auto_rows": null,
       "grid_column": null,
       "grid_gap": null,
       "grid_row": null,
       "grid_template_areas": null,
       "grid_template_columns": null,
       "grid_template_rows": null,
       "height": null,
       "justify_content": null,
       "justify_items": null,
       "left": null,
       "margin": null,
       "max_height": null,
       "max_width": null,
       "min_height": null,
       "min_width": null,
       "object_fit": null,
       "object_position": null,
       "order": null,
       "overflow": null,
       "overflow_x": null,
       "overflow_y": null,
       "padding": null,
       "right": null,
       "top": null,
       "visibility": null,
       "width": null
      }
     },
     "8c6368811ab54fc3a358188a303aff5d": {
      "model_module": "@jupyter-widgets/controls",
      "model_module_version": "1.5.0",
      "model_name": "FloatProgressModel",
      "state": {
       "_dom_classes": [],
       "_model_module": "@jupyter-widgets/controls",
       "_model_module_version": "1.5.0",
       "_model_name": "FloatProgressModel",
       "_view_count": null,
       "_view_module": "@jupyter-widgets/controls",
       "_view_module_version": "1.5.0",
       "_view_name": "ProgressView",
       "bar_style": "success",
       "description": "",
       "description_tooltip": null,
       "layout": "IPY_MODEL_585d56eee71f4e749daa2b482aa35d68",
       "max": 10000.0,
       "min": 0.0,
       "orientation": "horizontal",
       "style": "IPY_MODEL_9726a25cc7ed4462bf672c4c774a447c",
       "value": 10000.0
      }
     },
     "90f6be9c7d06423b9e44ccf32f01a056": {
      "model_module": "@jupyter-widgets/controls",
      "model_module_version": "1.5.0",
      "model_name": "HTMLModel",
      "state": {
       "_dom_classes": [],
       "_model_module": "@jupyter-widgets/controls",
       "_model_module_version": "1.5.0",
       "_model_name": "HTMLModel",
       "_view_count": null,
       "_view_module": "@jupyter-widgets/controls",
       "_view_module_version": "1.5.0",
       "_view_name": "HTMLView",
       "description": "",
       "description_tooltip": null,
       "layout": "IPY_MODEL_af53b2797e8d48a2925599397e06d3a1",
       "placeholder": "​",
       "style": "IPY_MODEL_b73869b06e214d919f84a3bbb599b8aa",
       "value": " 10000/10000 [00:02&lt;00:00, 3608.96it/s]"
      }
     },
     "9226475636aa432bb24fcda76194597c": {
      "model_module": "@jupyter-widgets/controls",
      "model_module_version": "1.5.0",
      "model_name": "HTMLModel",
      "state": {
       "_dom_classes": [],
       "_model_module": "@jupyter-widgets/controls",
       "_model_module_version": "1.5.0",
       "_model_name": "HTMLModel",
       "_view_count": null,
       "_view_module": "@jupyter-widgets/controls",
       "_view_module_version": "1.5.0",
       "_view_name": "HTMLView",
       "description": "",
       "description_tooltip": null,
       "layout": "IPY_MODEL_2c047abeb25942068a02a05d2a7f23a9",
       "placeholder": "​",
       "style": "IPY_MODEL_6457236a6a0e4072a0a4015cb272523f",
       "value": "100%"
      }
     },
     "9726a25cc7ed4462bf672c4c774a447c": {
      "model_module": "@jupyter-widgets/controls",
      "model_module_version": "1.5.0",
      "model_name": "ProgressStyleModel",
      "state": {
       "_model_module": "@jupyter-widgets/controls",
       "_model_module_version": "1.5.0",
       "_model_name": "ProgressStyleModel",
       "_view_count": null,
       "_view_module": "@jupyter-widgets/base",
       "_view_module_version": "1.2.0",
       "_view_name": "StyleView",
       "bar_color": null,
       "description_width": ""
      }
     },
     "9c746afcbddd41bdbabe76c16004382b": {
      "model_module": "@jupyter-widgets/base",
      "model_module_version": "1.2.0",
      "model_name": "LayoutModel",
      "state": {
       "_model_module": "@jupyter-widgets/base",
       "_model_module_version": "1.2.0",
       "_model_name": "LayoutModel",
       "_view_count": null,
       "_view_module": "@jupyter-widgets/base",
       "_view_module_version": "1.2.0",
       "_view_name": "LayoutView",
       "align_content": null,
       "align_items": null,
       "align_self": null,
       "border": null,
       "bottom": null,
       "display": null,
       "flex": null,
       "flex_flow": null,
       "grid_area": null,
       "grid_auto_columns": null,
       "grid_auto_flow": null,
       "grid_auto_rows": null,
       "grid_column": null,
       "grid_gap": null,
       "grid_row": null,
       "grid_template_areas": null,
       "grid_template_columns": null,
       "grid_template_rows": null,
       "height": null,
       "justify_content": null,
       "justify_items": null,
       "left": null,
       "margin": null,
       "max_height": null,
       "max_width": null,
       "min_height": null,
       "min_width": null,
       "object_fit": null,
       "object_position": null,
       "order": null,
       "overflow": null,
       "overflow_x": null,
       "overflow_y": null,
       "padding": null,
       "right": null,
       "top": null,
       "visibility": null,
       "width": null
      }
     },
     "af53b2797e8d48a2925599397e06d3a1": {
      "model_module": "@jupyter-widgets/base",
      "model_module_version": "1.2.0",
      "model_name": "LayoutModel",
      "state": {
       "_model_module": "@jupyter-widgets/base",
       "_model_module_version": "1.2.0",
       "_model_name": "LayoutModel",
       "_view_count": null,
       "_view_module": "@jupyter-widgets/base",
       "_view_module_version": "1.2.0",
       "_view_name": "LayoutView",
       "align_content": null,
       "align_items": null,
       "align_self": null,
       "border": null,
       "bottom": null,
       "display": null,
       "flex": null,
       "flex_flow": null,
       "grid_area": null,
       "grid_auto_columns": null,
       "grid_auto_flow": null,
       "grid_auto_rows": null,
       "grid_column": null,
       "grid_gap": null,
       "grid_row": null,
       "grid_template_areas": null,
       "grid_template_columns": null,
       "grid_template_rows": null,
       "height": null,
       "justify_content": null,
       "justify_items": null,
       "left": null,
       "margin": null,
       "max_height": null,
       "max_width": null,
       "min_height": null,
       "min_width": null,
       "object_fit": null,
       "object_position": null,
       "order": null,
       "overflow": null,
       "overflow_x": null,
       "overflow_y": null,
       "padding": null,
       "right": null,
       "top": null,
       "visibility": null,
       "width": null
      }
     },
     "b73869b06e214d919f84a3bbb599b8aa": {
      "model_module": "@jupyter-widgets/controls",
      "model_module_version": "1.5.0",
      "model_name": "DescriptionStyleModel",
      "state": {
       "_model_module": "@jupyter-widgets/controls",
       "_model_module_version": "1.5.0",
       "_model_name": "DescriptionStyleModel",
       "_view_count": null,
       "_view_module": "@jupyter-widgets/base",
       "_view_module_version": "1.2.0",
       "_view_name": "StyleView",
       "description_width": ""
      }
     },
     "bb1059bb98ea43fe8577f6ae098701fe": {
      "model_module": "@jupyter-widgets/base",
      "model_module_version": "1.2.0",
      "model_name": "LayoutModel",
      "state": {
       "_model_module": "@jupyter-widgets/base",
       "_model_module_version": "1.2.0",
       "_model_name": "LayoutModel",
       "_view_count": null,
       "_view_module": "@jupyter-widgets/base",
       "_view_module_version": "1.2.0",
       "_view_name": "LayoutView",
       "align_content": null,
       "align_items": null,
       "align_self": null,
       "border": null,
       "bottom": null,
       "display": null,
       "flex": null,
       "flex_flow": null,
       "grid_area": null,
       "grid_auto_columns": null,
       "grid_auto_flow": null,
       "grid_auto_rows": null,
       "grid_column": null,
       "grid_gap": null,
       "grid_row": null,
       "grid_template_areas": null,
       "grid_template_columns": null,
       "grid_template_rows": null,
       "height": null,
       "justify_content": null,
       "justify_items": null,
       "left": null,
       "margin": null,
       "max_height": null,
       "max_width": null,
       "min_height": null,
       "min_width": null,
       "object_fit": null,
       "object_position": null,
       "order": null,
       "overflow": null,
       "overflow_x": null,
       "overflow_y": null,
       "padding": null,
       "right": null,
       "top": null,
       "visibility": null,
       "width": null
      }
     },
     "bc05d0f6ffb8412581338501d64f3ef4": {
      "model_module": "@jupyter-widgets/controls",
      "model_module_version": "1.5.0",
      "model_name": "HBoxModel",
      "state": {
       "_dom_classes": [],
       "_model_module": "@jupyter-widgets/controls",
       "_model_module_version": "1.5.0",
       "_model_name": "HBoxModel",
       "_view_count": null,
       "_view_module": "@jupyter-widgets/controls",
       "_view_module_version": "1.5.0",
       "_view_name": "HBoxView",
       "box_style": "",
       "children": [
        "IPY_MODEL_53ff605cccd841aeaa144d1c47361265",
        "IPY_MODEL_d5964811e5fe4aa4bf3cf6e22372768c",
        "IPY_MODEL_10ff7b21ee7d4e729fc9fe73b2a48d69"
       ],
       "layout": "IPY_MODEL_9c746afcbddd41bdbabe76c16004382b"
      }
     },
     "cae8484bfb4a46f48d80a3d043b69570": {
      "model_module": "@jupyter-widgets/base",
      "model_module_version": "1.2.0",
      "model_name": "LayoutModel",
      "state": {
       "_model_module": "@jupyter-widgets/base",
       "_model_module_version": "1.2.0",
       "_model_name": "LayoutModel",
       "_view_count": null,
       "_view_module": "@jupyter-widgets/base",
       "_view_module_version": "1.2.0",
       "_view_name": "LayoutView",
       "align_content": null,
       "align_items": null,
       "align_self": null,
       "border": null,
       "bottom": null,
       "display": null,
       "flex": null,
       "flex_flow": null,
       "grid_area": null,
       "grid_auto_columns": null,
       "grid_auto_flow": null,
       "grid_auto_rows": null,
       "grid_column": null,
       "grid_gap": null,
       "grid_row": null,
       "grid_template_areas": null,
       "grid_template_columns": null,
       "grid_template_rows": null,
       "height": null,
       "justify_content": null,
       "justify_items": null,
       "left": null,
       "margin": null,
       "max_height": null,
       "max_width": null,
       "min_height": null,
       "min_width": null,
       "object_fit": null,
       "object_position": null,
       "order": null,
       "overflow": null,
       "overflow_x": null,
       "overflow_y": null,
       "padding": null,
       "right": null,
       "top": null,
       "visibility": null,
       "width": null
      }
     },
     "cf715fe6fd5443549f70dfa921b44fb8": {
      "model_module": "@jupyter-widgets/controls",
      "model_module_version": "1.5.0",
      "model_name": "DescriptionStyleModel",
      "state": {
       "_model_module": "@jupyter-widgets/controls",
       "_model_module_version": "1.5.0",
       "_model_name": "DescriptionStyleModel",
       "_view_count": null,
       "_view_module": "@jupyter-widgets/base",
       "_view_module_version": "1.2.0",
       "_view_name": "StyleView",
       "description_width": ""
      }
     },
     "d355dd94a9fb40039834eca4f4635231": {
      "model_module": "@jupyter-widgets/controls",
      "model_module_version": "1.5.0",
      "model_name": "HTMLModel",
      "state": {
       "_dom_classes": [],
       "_model_module": "@jupyter-widgets/controls",
       "_model_module_version": "1.5.0",
       "_model_name": "HTMLModel",
       "_view_count": null,
       "_view_module": "@jupyter-widgets/controls",
       "_view_module_version": "1.5.0",
       "_view_name": "HTMLView",
       "description": "",
       "description_tooltip": null,
       "layout": "IPY_MODEL_406e55370e0e4a9c9a78f2918c20fec8",
       "placeholder": "​",
       "style": "IPY_MODEL_cf715fe6fd5443549f70dfa921b44fb8",
       "value": " 10000/10000 [00:02&lt;00:00, 3684.80it/s]"
      }
     },
     "d5964811e5fe4aa4bf3cf6e22372768c": {
      "model_module": "@jupyter-widgets/controls",
      "model_module_version": "1.5.0",
      "model_name": "FloatProgressModel",
      "state": {
       "_dom_classes": [],
       "_model_module": "@jupyter-widgets/controls",
       "_model_module_version": "1.5.0",
       "_model_name": "FloatProgressModel",
       "_view_count": null,
       "_view_module": "@jupyter-widgets/controls",
       "_view_module_version": "1.5.0",
       "_view_name": "ProgressView",
       "bar_style": "success",
       "description": "",
       "description_tooltip": null,
       "layout": "IPY_MODEL_cae8484bfb4a46f48d80a3d043b69570",
       "max": 10000.0,
       "min": 0.0,
       "orientation": "horizontal",
       "style": "IPY_MODEL_4d220173fc154dd39b4cd1927b3591bb",
       "value": 10000.0
      }
     },
     "dbd6e5935cd94a899a06f52b91d54d34": {
      "model_module": "@jupyter-widgets/controls",
      "model_module_version": "1.5.0",
      "model_name": "HBoxModel",
      "state": {
       "_dom_classes": [],
       "_model_module": "@jupyter-widgets/controls",
       "_model_module_version": "1.5.0",
       "_model_name": "HBoxModel",
       "_view_count": null,
       "_view_module": "@jupyter-widgets/controls",
       "_view_module_version": "1.5.0",
       "_view_name": "HBoxView",
       "box_style": "",
       "children": [
        "IPY_MODEL_2d3da44253474700bcc98555d4aea346",
        "IPY_MODEL_8c6368811ab54fc3a358188a303aff5d",
        "IPY_MODEL_d355dd94a9fb40039834eca4f4635231"
       ],
       "layout": "IPY_MODEL_eaaa9a430ce3411eba89355c508ecb2f"
      }
     },
     "eaaa9a430ce3411eba89355c508ecb2f": {
      "model_module": "@jupyter-widgets/base",
      "model_module_version": "1.2.0",
      "model_name": "LayoutModel",
      "state": {
       "_model_module": "@jupyter-widgets/base",
       "_model_module_version": "1.2.0",
       "_model_name": "LayoutModel",
       "_view_count": null,
       "_view_module": "@jupyter-widgets/base",
       "_view_module_version": "1.2.0",
       "_view_name": "LayoutView",
       "align_content": null,
       "align_items": null,
       "align_self": null,
       "border": null,
       "bottom": null,
       "display": null,
       "flex": null,
       "flex_flow": null,
       "grid_area": null,
       "grid_auto_columns": null,
       "grid_auto_flow": null,
       "grid_auto_rows": null,
       "grid_column": null,
       "grid_gap": null,
       "grid_row": null,
       "grid_template_areas": null,
       "grid_template_columns": null,
       "grid_template_rows": null,
       "height": null,
       "justify_content": null,
       "justify_items": null,
       "left": null,
       "margin": null,
       "max_height": null,
       "max_width": null,
       "min_height": null,
       "min_width": null,
       "object_fit": null,
       "object_position": null,
       "order": null,
       "overflow": null,
       "overflow_x": null,
       "overflow_y": null,
       "padding": null,
       "right": null,
       "top": null,
       "visibility": null,
       "width": null
      }
     }
    },
    "version_major": 2,
    "version_minor": 0
   }
  }
 },
 "nbformat": 4,
 "nbformat_minor": 5
}
